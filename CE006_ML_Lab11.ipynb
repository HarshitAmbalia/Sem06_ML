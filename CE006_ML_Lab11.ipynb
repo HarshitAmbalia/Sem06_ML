{
  "nbformat": 4,
  "nbformat_minor": 0,
  "metadata": {
    "colab": {
      "name": "CE006_ML_Lab11.ipynb",
      "provenance": [],
      "collapsed_sections": []
    },
    "kernelspec": {
      "name": "python3",
      "display_name": "Python 3"
    },
    "language_info": {
      "name": "python"
    }
  },
  "cells": [
    {
      "cell_type": "markdown",
      "source": [
        "Machine Learning Lab : 11"
      ],
      "metadata": {
        "id": "GQ7mWYz972t7"
      }
    },
    {
      "cell_type": "markdown",
      "source": [
        "Aim: To implement SVM using scikit-learn library and train it to classify the given dataset.\n",
        "\n"
      ],
      "metadata": {
        "id": "S2PLfziz7447"
      }
    },
    {
      "cell_type": "code",
      "execution_count": null,
      "metadata": {
        "id": "G-p39NzK7skQ"
      },
      "outputs": [],
      "source": [
        "import numpy as np #RZYy98ATcy78GpE\n",
        "import pandas as pd\n",
        "import matplotlib.pyplot as plt\n",
        "from matplotlib.axes._axes import _log as matplotlib_axes_logger\n",
        "from mpl_toolkits import mplot3d\n",
        "from sklearn.model_selection import train_test_split\n",
        "from sklearn.svm import SVC\n",
        "from matplotlib.colors import ListedColormap"
      ]
    },
    {
      "cell_type": "code",
      "source": [
        "from sklearn.datasets import make_circles\n",
        "\n",
        "X, y = make_circles(100, factor=.1, noise=.1)\n",
        "plt.scatter(X[:, 0], X[:, 1], c=y, s=50, cmap='bwr')"
      ],
      "metadata": {
        "colab": {
          "base_uri": "https://localhost:8080/",
          "height": 282
        },
        "id": "L9qdl1fc8G1J",
        "outputId": "f4136dd9-0d53-440b-fa68-94fb3a8c64dd"
      },
      "execution_count": null,
      "outputs": [
        {
          "output_type": "execute_result",
          "data": {
            "text/plain": [
              "<matplotlib.collections.PathCollection at 0x7f1f6d834550>"
            ]
          },
          "metadata": {},
          "execution_count": 2
        },
        {
          "output_type": "display_data",
          "data": {
            "text/plain": [
              "<Figure size 432x288 with 1 Axes>"
            ],
            "image/png": "[encoded data removed]"
          },
          "metadata": {
            "needs_background": "light"
          }
        }
      ]
    },
    {
      "cell_type": "code",
      "source": [
        "X_train, X_test, y_train, y_test = train_test_split(X, y, test_size = 0.20)"
      ],
      "metadata": {
        "id": "590h0Pfn8Knb"
      },
      "execution_count": null,
      "outputs": []
    },
    {
      "cell_type": "code",
      "source": [
        "classifier = SVC(kernel=\"linear\")\n",
        "classifier.fit(X_train, y_train.ravel())\n",
        "y_pred = classifier.predict(X_test)"
      ],
      "metadata": {
        "id": "E_LS2n1-8NRf"
      },
      "execution_count": null,
      "outputs": []
    },
    {
      "cell_type": "code",
      "source": [
        "from sklearn.metrics import accuracy_score\n",
        "accuracy_score(y_test, y_pred)"
      ],
      "metadata": {
        "colab": {
          "base_uri": "https://localhost:8080/"
        },
        "id": "V0BZI7lf8PSC",
        "outputId": "c7b50aeb-4373-4c08-fd73-3a8b24a5a3ad"
      },
      "execution_count": null,
      "outputs": [
        {
          "output_type": "execute_result",
          "data": {
            "text/plain": [
              "0.7"
            ]
          },
          "metadata": {},
          "execution_count": 5
        }
      ]
    },
    {
      "cell_type": "code",
      "source": [
        "zero_one_colourmap = ListedColormap(('blue', 'red'))\n",
        "def plot_decision_boundary(X, y, clf):\n",
        "  X_set, y_set = X, y\n",
        "  X1, X2 = np.meshgrid(np.arange(start = X_set[:, 0].min() - 1,\n",
        "  stop = X_set[:, 0].max() + 1,\n",
        "  step = 0.01),\n",
        "\n",
        "  np.arange(start = X_set[:, 1].min() - 1,\n",
        "  stop = X_set[:, 1].max() + 1,\n",
        "  step = 0.01))\n",
        "\n",
        "  plt.contourf(X1, X2, clf.predict(np.array([X1.ravel(),\n",
        "\n",
        "  X2.ravel()]).T).reshape(X1.shape),\n",
        "\n",
        "  alpha = 0.75,\n",
        "  cmap = zero_one_colourmap)\n",
        "\n",
        "  plt.xlim(X1.min(), X1.max())\n",
        "  plt.ylim(X2.min(), X2.max())\n",
        "  for i, j in enumerate(np.unique(y_set)):\n",
        "    plt.scatter(X_set[y_set == j, 0], X_set[y_set == j, 1],\n",
        "      c = (zero_one_colourmap)(i), label = j)\n",
        "\n",
        "  plt.title('SVM Decision Boundary')\n",
        "  plt.xlabel('X1')\n",
        "  plt.ylabel('X2')\n",
        "  plt.legend()\n",
        "  return plt.show()"
      ],
      "metadata": {
        "id": "WuEtDy9F8R-z"
      },
      "execution_count": null,
      "outputs": []
    },
    {
      "cell_type": "code",
      "source": [
        "plot_decision_boundary(X, y, classifier)"
      ],
      "metadata": {
        "colab": {
          "base_uri": "https://localhost:8080/",
          "height": 350
        },
        "id": "ITCLjRDd8aGa",
        "outputId": "35024416-2ff3-45dc-dda6-233de7ea959b"
      },
      "execution_count": null,
      "outputs": [
        {
          "output_type": "stream",
          "name": "stderr",
          "text": [
            "*c* argument looks like a single numeric RGB or RGBA sequence, which should be avoided as value-mapping will have precedence in case its length matches with *x* & *y*.  Please use the *color* keyword-argument or provide a 2-D array with a single row if you intend to specify the same RGB or RGBA value for all points.\n",
            "*c* argument looks like a single numeric RGB or RGBA sequence, which should be avoided as value-mapping will have precedence in case its length matches with *x* & *y*.  Please use the *color* keyword-argument or provide a 2-D array with a single row if you intend to specify the same RGB or RGBA value for all points.\n"
          ]
        },
        {
          "output_type": "display_data",
          "data": {
            "text/plain": [
              "<Figure size 432x288 with 1 Axes>"
            ],
            "image/png": "[encoded data removed]"
          },
          "metadata": {
            "needs_background": "light"
          }
        }
      ]
    },
    {
      "cell_type": "code",
      "source": [
        "def plot_3d_plot(X, y):\n",
        "  r = np.exp(-(X ** 2).sum(1))\n",
        "  ax = plt.subplot(projection='3d')\n",
        "  ax.scatter3D(X[:, 0], X[:, 1], r, c=y, s=100, cmap='bwr')\n",
        "  ax.set_xlabel('X1')\n",
        "  ax.set_ylabel('X2')\n",
        "  ax.set_zlabel('y')\n",
        "  return ax"
      ],
      "metadata": {
        "id": "aSBvfxZz8jD2"
      },
      "execution_count": null,
      "outputs": []
    },
    {
      "cell_type": "code",
      "source": [
        "plot_3d_plot(X,y)"
      ],
      "metadata": {
        "colab": {
          "base_uri": "https://localhost:8080/",
          "height": 265
        },
        "id": "0n83twyS8m3d",
        "outputId": "a8ebec37-6f36-4191-d6ad-805df1dd2554"
      },
      "execution_count": null,
      "outputs": [
        {
          "output_type": "execute_result",
          "data": {
            "text/plain": [
              "<matplotlib.axes._subplots.Axes3DSubplot at 0x7f1f6d02a1d0>"
            ]
          },
          "metadata": {},
          "execution_count": 10
        },
        {
          "output_type": "display_data",
          "data": {
            "text/plain": [
              "<Figure size 432x288 with 1 Axes>"
            ],
            "image/png": "[encoded data removed]"
          },
          "metadata": {
            "needs_background": "light"
          }
        }
      ]
    },
    {
      "cell_type": "code",
      "source": [
        ""
      ],
      "metadata": {
        "id": "BdCQaIiN8-fv"
      },
      "execution_count": null,
      "outputs": []
    },
    {
      "cell_type": "markdown",
      "source": [
        "Lab : 11"
      ],
      "metadata": {
        "id": "OMBx_eoy8uZe"
      }
    },
    {
      "cell_type": "code",
      "source": [
        "import sys, os\n",
        "import matplotlib.pyplot as plt\n",
        "from sklearn import svm\n",
        "from sklearn.model_selection import train_test_split\n",
        "import numpy as np\n",
        "import seaborn as sns"
      ],
      "metadata": {
        "id": "18ywHchx8o_o"
      },
      "execution_count": 1,
      "outputs": []
    },
    {
      "cell_type": "code",
      "source": [
        "# importing scikit learn with make_blobs\n",
        "from sklearn.datasets import make_blobs\n",
        "# creating datasets X containing n_samples\n",
        "# Y containing two classes\n",
        "X,Y=make_blobs(n_samples=50, n_features=2 ,centers=2,random_state=175)\n",
        "# plotting scatters\n",
        "sns.scatterplot(x=X[:,0], y=X[:,1], c =[\"green\"])"
      ],
      "metadata": {
        "colab": {
          "base_uri": "https://localhost:8080/",
          "height": 282
        },
        "id": "Me_pP_G-QHnP",
        "outputId": "080844cd-25d2-4605-f135-bec5d175e5c7"
      },
      "execution_count": 3,
      "outputs": [
        {
          "output_type": "execute_result",
          "data": {
            "text/plain": [
              "<matplotlib.axes._subplots.AxesSubplot at 0x7f0c215d3350>"
            ]
          },
          "metadata": {},
          "execution_count": 3
        },
        {
          "output_type": "display_data",
          "data": {
            "text/plain": [
              "<Figure size 432x288 with 1 Axes>"
            ],
            "image/png": "[encoded data removed]"
          },
          "metadata": {
            "needs_background": "light"
          }
        }
      ]
    },
    {
      "cell_type": "code",
      "source": [
        "X_train, X_test, y_train, y_test = train_test_split(X,Y,test_size=0.2, random_state=175)\n",
        "print(\"X_train : \", X_train)\n",
        "print(\"X_test : \", X_test)\n",
        "print(\"y_train : \", y_train)\n",
        "print(\"y_test : \", y_test)\n",
        "print(\"X_train.shape : \", X_train.shape)\n",
        "print(\"X_test.shape : \", X_test.shape)"
      ],
      "metadata": {
        "colab": {
          "base_uri": "https://localhost:8080/"
        },
        "id": "n336Gh3FQiyr",
        "outputId": "7bbfd7d7-00d6-48f7-9eb6-be334e0cd05f"
      },
      "execution_count": 5,
      "outputs": [
        {
          "output_type": "stream",
          "name": "stdout",
          "text": [
            "X_train :  [[ 0.27088063  2.39359392]\n",
            " [ 6.4320543  -4.73355403]\n",
            " [ 2.24985564  0.80121984]\n",
            " [ 2.29733454  2.93884082]\n",
            " [-0.36241469  3.60765613]\n",
            " [ 5.20895302 -6.53510549]\n",
            " [ 6.45029225 -5.45666622]\n",
            " [ 2.72987473  2.2645398 ]\n",
            " [ 2.92503387  3.86502846]\n",
            " [ 1.50999133  2.098059  ]\n",
            " [ 1.176843    2.79378356]\n",
            " [ 2.2706585   1.97895955]\n",
            " [ 4.79430564 -2.93903976]\n",
            " [ 1.17442719  2.49295397]\n",
            " [-0.6153901   1.98556315]\n",
            " [ 5.71386303 -4.31315811]\n",
            " [ 5.63580053 -4.75950881]\n",
            " [ 6.59514953 -5.52120893]\n",
            " [ 5.0503361  -2.51618948]\n",
            " [ 6.6447366  -3.05190083]\n",
            " [ 7.77369514 -5.167916  ]\n",
            " [ 1.13398229  2.52687785]\n",
            " [ 4.12705703 -4.82429852]\n",
            " [ 5.80278225 -6.51299136]\n",
            " [ 4.97164702 -3.54481095]\n",
            " [ 2.35074631  4.17985465]\n",
            " [ 6.1308246  -4.70423746]\n",
            " [ 1.98069811  2.31451925]\n",
            " [ 6.50002215 -3.98605497]\n",
            " [ 2.31391607  1.319549  ]\n",
            " [ 7.58370882 -4.57997242]\n",
            " [ 4.71056977 -6.25647181]\n",
            " [ 1.17474644  4.61620435]\n",
            " [ 6.01614411 -4.91456016]\n",
            " [ 5.63778855 -5.49926418]\n",
            " [ 4.48650045 -5.50699677]\n",
            " [ 4.76223871 -4.88965042]\n",
            " [ 2.35659553  2.54880134]\n",
            " [ 1.92290047  3.28684089]\n",
            " [ 1.81387837  1.26823697]]\n",
            "X_test :  [[ 6.43585347 -4.31894744]\n",
            " [ 1.74482755  4.23390616]\n",
            " [ 2.92598337  1.84325351]\n",
            " [-1.18545929  2.15760998]\n",
            " [ 5.83600414 -4.32427224]\n",
            " [ 2.67332424  2.68511986]\n",
            " [ 0.67424254  2.27696146]\n",
            " [ 7.07607708 -5.52687739]\n",
            " [ 7.18900309 -4.09895634]\n",
            " [ 1.7986313   4.07177371]]\n",
            "y_train :  [1 0 1 1 1 0 0 1 1 1 1 1 0 1 1 0 0 0 0 0 0 1 0 0 0 1 0 1 0 1 0 0 1 0 0 0 0\n",
            " 1 1 1]\n",
            "y_test :  [0 1 1 1 0 1 1 0 0 1]\n",
            "X_train.shape :  (40, 2)\n",
            "X_test.shape :  (10, 2)\n"
          ]
        }
      ]
    },
    {
      "cell_type": "code",
      "source": [
        "from matplotlib.axes._axes import _log as matplotlib_axes_logger\n",
        "from mpl_toolkits import mplot3d\n",
        "from matplotlib.colors import ListedColormap\n",
        "zero_one_colourmap = ListedColormap(('blue', 'red'))\n",
        "def plot_decision_function(X, y, clf):\n",
        "    X_set, y_set = X, y\n",
        "    X1, X2 = np.meshgrid(np.arange(start = X_set[:, 0].min() - 1,\n",
        "    stop = X_set[:, 0].max() + 1,\n",
        "    step = 0.01),\n",
        "\n",
        "    np.arange(start = X_set[:, 1].min() - 1,\n",
        "    stop = X_set[:, 1].max() + 1,\n",
        "    step = 0.01))\n",
        "\n",
        "    plt.contourf(X1, X2, clf.predict(np.array([X1.ravel(),\n",
        "\n",
        "    X2.ravel()]).T).reshape(X1.shape),\n",
        "\n",
        "    alpha = 0.75,\n",
        "    cmap = zero_one_colourmap)\n",
        "\n",
        "    plt.xlim(X1.min(), X1.max())\n",
        "    plt.ylim(X2.min(), X2.max())\n",
        "    for i, j in enumerate(np.unique(y_set)):\n",
        "        plt.scatter(X_set[y_set == j, 0], X_set[y_set == j, 1],\n",
        "        c = (zero_one_colourmap)(i), label = j)\n",
        "\n",
        "    plt.title('SVM Decision Boundary')\n",
        "    plt.xlabel('X1')\n",
        "    plt.ylabel('X2')\n",
        "    plt.legend()\n",
        "    return plt.show()"
      ],
      "metadata": {
        "id": "RLJ7Jf_QQqbM"
      },
      "execution_count": 6,
      "outputs": []
    },
    {
      "cell_type": "code",
      "source": [
        "# Create a linear SVM classifier\n",
        "clf = svm.SVC(kernel='linear')\n",
        "# Train classifier\n",
        "clf.fit(X_train, y_train.ravel())\n",
        "y_pred = clf.predict(X_test)\n",
        "print(\"y_pred : \", y_pred)"
      ],
      "metadata": {
        "colab": {
          "base_uri": "https://localhost:8080/"
        },
        "id": "680KKCvHQsOD",
        "outputId": "54a1c65d-d868-4384-e709-115ada5e6c33"
      },
      "execution_count": 8,
      "outputs": [
        {
          "output_type": "stream",
          "name": "stdout",
          "text": [
            "y_pred :  [0 1 1 1 0 1 1 0 0 1]\n"
          ]
        }
      ]
    },
    {
      "cell_type": "code",
      "source": [
        "from sklearn.metrics import accuracy_score\n",
        "accuracy_score(y_test, y_pred)"
      ],
      "metadata": {
        "colab": {
          "base_uri": "https://localhost:8080/"
        },
        "id": "N7l9HlBuQuOh",
        "outputId": "5f9cad06-2074-45b5-fb82-3dd65e0ddd05"
      },
      "execution_count": 9,
      "outputs": [
        {
          "output_type": "execute_result",
          "data": {
            "text/plain": [
              "1.0"
            ]
          },
          "metadata": {},
          "execution_count": 9
        }
      ]
    },
    {
      "cell_type": "code",
      "source": [
        "# Plot decision function on training and test data\n",
        "plot_decision_function(X, Y, clf)"
      ],
      "metadata": {
        "colab": {
          "base_uri": "https://localhost:8080/",
          "height": 350
        },
        "id": "kpXwjY3UQ5I_",
        "outputId": "5f5b9595-4229-4774-9f73-d415eca40d9d"
      },
      "execution_count": 12,
      "outputs": [
        {
          "output_type": "stream",
          "name": "stderr",
          "text": [
            "*c* argument looks like a single numeric RGB or RGBA sequence, which should be avoided as value-mapping will have precedence in case its length matches with *x* & *y*.  Please use the *color* keyword-argument or provide a 2-D array with a single row if you intend to specify the same RGB or RGBA value for all points.\n",
            "*c* argument looks like a single numeric RGB or RGBA sequence, which should be avoided as value-mapping will have precedence in case its length matches with *x* & *y*.  Please use the *color* keyword-argument or provide a 2-D array with a single row if you intend to specify the same RGB or RGBA value for all points.\n"
          ]
        },
        {
          "output_type": "display_data",
          "data": {
            "text/plain": [
              "<Figure size 432x288 with 1 Axes>"
            ],
            "image/png": "[encoded data removed]"
          },
          "metadata": {
            "needs_background": "light"
          }
        }
      ]
    },
    {
      "cell_type": "code",
      "source": [
        "def make_meshgrid(x, y, h=.02):\n",
        "    x_min, x_max = x.min() - 1, x.max() + 1\n",
        "    y_min, y_max = y.min() - 1, y.max() + 1\n",
        "    xx, yy = np.meshgrid(np.arange(x_min, x_max, h), np.arange(y_min, y_max, h))\n",
        "    return xx, yy\n",
        "def plot_contours(ax, clf, xx, yy, **params):\n",
        "    Z = clf.predict(np.c_[xx.ravel(), yy.ravel()])\n",
        "    Z = Z.reshape(xx.shape)\n",
        "    out = ax.contourf(xx, yy, Z, **params)\n",
        "    return out\n",
        "fig, ax = plt.subplots()\n",
        "# title for the plots\n",
        "title = ('Decision surface of linear SVC ')\n",
        "# Set-up grid for plotting.\n",
        "X0, X1 = X[:, 0], X[:, 1]\n",
        "xx, yy = make_meshgrid(X0, X1)\n",
        "plot_contours(ax, clf, xx, yy, cmap=plt.cm.coolwarm, alpha=0.8)\n",
        "ax.scatter(X0, X1, c=Y, cmap=plt.cm.coolwarm, s=20, edgecolors='k')\n",
        "ax.set_ylabel('y label here')\n",
        "ax.set_xlabel('x label here')\n",
        "ax.set_xticks(())\n",
        "ax.set_yticks(())\n",
        "ax.set_title(title)\n",
        "ax.legend()\n",
        "plt.show()"
      ],
      "metadata": {
        "colab": {
          "base_uri": "https://localhost:8080/",
          "height": 295
        },
        "id": "deQLmztMQ8gH",
        "outputId": "254d6371-e2ec-4958-adfa-9a2e8f12773f"
      },
      "execution_count": 15,
      "outputs": [
        {
          "output_type": "stream",
          "name": "stderr",
          "text": [
            "No handles with labels found to put in legend.\n"
          ]
        },
        {
          "output_type": "display_data",
          "data": {
            "text/plain": [
              "<Figure size 432x288 with 1 Axes>"
            ],
            "image/png": "[encoded data removed]"
          },
          "metadata": {}
        }
      ]
    },
    {
      "cell_type": "code",
      "source": [
        "rbf_classifier = svm.SVC(kernel=\"rbf\")\n",
        "rbf_classifier.fit(X_train, y_train)\n",
        "y_pred = rbf_classifier.predict(X_test)\n",
        "print(\"y_pred : \", y_pred)"
      ],
      "metadata": {
        "colab": {
          "base_uri": "https://localhost:8080/"
        },
        "id": "p80GZaEiRLDJ",
        "outputId": "3501e7ad-e82e-4048-f2bc-5232ec86c022"
      },
      "execution_count": 17,
      "outputs": [
        {
          "output_type": "stream",
          "name": "stdout",
          "text": [
            "y_pred :  [0 1 1 1 0 1 1 0 0 1]\n"
          ]
        }
      ]
    },
    {
      "cell_type": "code",
      "source": [
        "accuracy_score(y_test, y_pred)"
      ],
      "metadata": {
        "colab": {
          "base_uri": "https://localhost:8080/"
        },
        "id": "Q4uQJQ9LRU2z",
        "outputId": "41d7b842-3ec7-4629-8b76-aa5551ea85e6"
      },
      "execution_count": 18,
      "outputs": [
        {
          "output_type": "execute_result",
          "data": {
            "text/plain": [
              "1.0"
            ]
          },
          "metadata": {},
          "execution_count": 18
        }
      ]
    },
    {
      "cell_type": "code",
      "source": [
        "plot_decision_function(X, Y, rbf_classifier)"
      ],
      "metadata": {
        "colab": {
          "base_uri": "https://localhost:8080/",
          "height": 350
        },
        "id": "lRvdvjHJR5FX",
        "outputId": "aac55ff0-4b0d-45af-bd80-a08a7d95c12e"
      },
      "execution_count": 19,
      "outputs": [
        {
          "output_type": "stream",
          "name": "stderr",
          "text": [
            "*c* argument looks like a single numeric RGB or RGBA sequence, which should be avoided as value-mapping will have precedence in case its length matches with *x* & *y*.  Please use the *color* keyword-argument or provide a 2-D array with a single row if you intend to specify the same RGB or RGBA value for all points.\n",
            "*c* argument looks like a single numeric RGB or RGBA sequence, which should be avoided as value-mapping will have precedence in case its length matches with *x* & *y*.  Please use the *color* keyword-argument or provide a 2-D array with a single row if you intend to specify the same RGB or RGBA value for all points.\n"
          ]
        },
        {
          "output_type": "display_data",
          "data": {
            "text/plain": [
              "<Figure size 432x288 with 1 Axes>"
            ],
            "image/png": "[encoded data removed]"
          },
          "metadata": {
            "needs_background": "light"
          }
        }
      ]
    },
    {
      "cell_type": "code",
      "source": [
        "poly_classifier = svm.SVC(kernel=\"poly\")\n",
        "poly_classifier.fit(X_train, y_train)\n",
        "y_pred = poly_classifier.predict(X_test)\n",
        "print(\"y_pred : \", y_pred)"
      ],
      "metadata": {
        "colab": {
          "base_uri": "https://localhost:8080/"
        },
        "id": "i8bXf4q1R7de",
        "outputId": "12afd3c9-e37c-41f8-8b01-d133fc417026"
      },
      "execution_count": 20,
      "outputs": [
        {
          "output_type": "stream",
          "name": "stdout",
          "text": [
            "y_pred :  [0 1 1 1 0 1 1 0 0 1]\n"
          ]
        }
      ]
    },
    {
      "cell_type": "code",
      "source": [
        "accuracy_score(y_test, y_pred)"
      ],
      "metadata": {
        "colab": {
          "base_uri": "https://localhost:8080/"
        },
        "id": "svnnzAg1R_ro",
        "outputId": "bf6e6e39-0d3e-4507-b490-43af2626dba9"
      },
      "execution_count": 21,
      "outputs": [
        {
          "output_type": "execute_result",
          "data": {
            "text/plain": [
              "1.0"
            ]
          },
          "metadata": {},
          "execution_count": 21
        }
      ]
    },
    {
      "cell_type": "code",
      "source": [
        "plot_decision_function(X, Y, rbf_classifier)"
      ],
      "metadata": {
        "colab": {
          "base_uri": "https://localhost:8080/",
          "height": 350
        },
        "id": "k6h8mdHHSBjE",
        "outputId": "e384c48f-043e-44b5-e52c-21054e2b9825"
      },
      "execution_count": 22,
      "outputs": [
        {
          "output_type": "stream",
          "name": "stderr",
          "text": [
            "*c* argument looks like a single numeric RGB or RGBA sequence, which should be avoided as value-mapping will have precedence in case its length matches with *x* & *y*.  Please use the *color* keyword-argument or provide a 2-D array with a single row if you intend to specify the same RGB or RGBA value for all points.\n",
            "*c* argument looks like a single numeric RGB or RGBA sequence, which should be avoided as value-mapping will have precedence in case its length matches with *x* & *y*.  Please use the *color* keyword-argument or provide a 2-D array with a single row if you intend to specify the same RGB or RGBA value for all points.\n"
          ]
        },
        {
          "output_type": "display_data",
          "data": {
            "text/plain": [
              "<Figure size 432x288 with 1 Axes>"
            ],
            "image/png": "[encoded data removed]"
          },
          "metadata": {
            "needs_background": "light"
          }
        }
      ]
    },
    {
      "cell_type": "markdown",
      "source": [
        "Part B : Breast Cancer Prediction Example"
      ],
      "metadata": {
        "id": "qpjb8AirSTRj"
      }
    },
    {
      "cell_type": "code",
      "source": [
        "#Import scikit-learn dataset library\n",
        "from sklearn import datasets\n",
        "#Load dataset\n",
        "cancer = datasets.load_breast_cancer()"
      ],
      "metadata": {
        "id": "ENC8VIc_SOpv"
      },
      "execution_count": 23,
      "outputs": []
    },
    {
      "cell_type": "code",
      "source": [
        "# print the names of the 13 features\n",
        "print(\"Features : \", cancer.feature_names[:13])\n",
        "# print the label type of cancer('malignant' 'benign')\n",
        "print(\"Labels : \", cancer.target_names)"
      ],
      "metadata": {
        "colab": {
          "base_uri": "https://localhost:8080/"
        },
        "id": "hecxxbSvSWSY",
        "outputId": "50f1d262-5553-4e87-d033-a490b275a633"
      },
      "execution_count": 25,
      "outputs": [
        {
          "output_type": "stream",
          "name": "stdout",
          "text": [
            "Features :  ['mean radius' 'mean texture' 'mean perimeter' 'mean area'\n",
            " 'mean smoothness' 'mean compactness' 'mean concavity'\n",
            " 'mean concave points' 'mean symmetry' 'mean fractal dimension'\n",
            " 'radius error' 'texture error' 'perimeter error']\n",
            "Labels :  ['malignant' 'benign']\n"
          ]
        }
      ]
    },
    {
      "cell_type": "code",
      "source": [
        "# print data(feature)shape\n",
        "feature=cancer.data\n",
        "target=cancer.target\n",
        "print(\"feature.shape : \", feature.shape)\n",
        "print(\"target.shape : \", target.shape)\n",
        "# print the cancer labels (0:malignant, 1:benign)\n",
        "print(\"target : \", target)"
      ],
      "metadata": {
        "colab": {
          "base_uri": "https://localhost:8080/"
        },
        "id": "GAa13P1NSZsI",
        "outputId": "e33d7215-7676-4bbe-8db5-37e425844ba4"
      },
      "execution_count": 26,
      "outputs": [
        {
          "output_type": "stream",
          "name": "stdout",
          "text": [
            "feature.shape :  (569, 30)\n",
            "target.shape :  (569,)\n",
            "target :  [0 0 0 0 0 0 0 0 0 0 0 0 0 0 0 0 0 0 0 1 1 1 0 0 0 0 0 0 0 0 0 0 0 0 0 0 0\n",
            " 1 0 0 0 0 0 0 0 0 1 0 1 1 1 1 1 0 0 1 0 0 1 1 1 1 0 1 0 0 1 1 1 1 0 1 0 0\n",
            " 1 0 1 0 0 1 1 1 0 0 1 0 0 0 1 1 1 0 1 1 0 0 1 1 1 0 0 1 1 1 1 0 1 1 0 1 1\n",
            " 1 1 1 1 1 1 0 0 0 1 0 0 1 1 1 0 0 1 0 1 0 0 1 0 0 1 1 0 1 1 0 1 1 1 1 0 1\n",
            " 1 1 1 1 1 1 1 1 0 1 1 1 1 0 0 1 0 1 1 0 0 1 1 0 0 1 1 1 1 0 1 1 0 0 0 1 0\n",
            " 1 0 1 1 1 0 1 1 0 0 1 0 0 0 0 1 0 0 0 1 0 1 0 1 1 0 1 0 0 0 0 1 1 0 0 1 1\n",
            " 1 0 1 1 1 1 1 0 0 1 1 0 1 1 0 0 1 0 1 1 1 1 0 1 1 1 1 1 0 1 0 0 0 0 0 0 0\n",
            " 0 0 0 0 0 0 0 1 1 1 1 1 1 0 1 0 1 1 0 1 1 0 1 0 0 1 1 1 1 1 1 1 1 1 1 1 1\n",
            " 1 0 1 1 0 1 0 1 1 1 1 1 1 1 1 1 1 1 1 1 1 0 1 1 1 0 1 0 1 1 1 1 0 0 0 1 1\n",
            " 1 1 0 1 0 1 0 1 1 1 0 1 1 1 1 1 1 1 0 0 0 1 1 1 1 1 1 1 1 1 1 1 0 0 1 0 0\n",
            " 0 1 0 0 1 1 1 1 1 0 1 1 1 1 1 0 1 1 1 0 1 1 0 0 1 1 1 1 1 1 0 1 1 1 1 1 1\n",
            " 1 0 1 1 1 1 1 0 1 1 0 1 1 1 1 1 1 1 1 1 1 1 1 0 1 0 0 1 0 1 1 1 1 1 0 1 1\n",
            " 0 1 0 1 1 0 1 0 1 1 1 1 1 1 1 1 0 0 1 1 1 1 1 1 0 1 1 1 1 1 1 1 1 1 1 0 1\n",
            " 1 1 1 1 1 1 0 1 0 1 1 0 1 1 1 1 1 0 0 1 0 1 0 1 1 1 1 1 0 1 1 0 1 0 1 0 0\n",
            " 1 1 1 0 1 1 1 1 1 1 1 1 1 1 1 0 1 0 0 1 1 1 1 1 1 1 1 1 1 1 1 1 1 1 1 1 1\n",
            " 1 1 1 1 1 1 1 0 0 0 0 0 0 1]\n"
          ]
        }
      ]
    },
    {
      "cell_type": "code",
      "source": [
        "X_train, X_test, y_train, y_test = train_test_split(feature,target,test_size=0.2, random_state=175)\n",
        "print(X_train.shape,y_train.shape)\n",
        "print(X_test.shape,y_test.shape)\n",
        "\n",
        "# plotting scatters\n",
        "# sns.scatterplot(x=feature, y=target, c =[\"green\"])\n",
        "plt.scatter(X[:,0],X[:,1])\n",
        "plt.show()"
      ],
      "metadata": {
        "colab": {
          "base_uri": "https://localhost:8080/",
          "height": 300
        },
        "id": "PgpAttaDSmVY",
        "outputId": "e0e93d3d-b634-4ff1-b3f4-fab119fccdbe"
      },
      "execution_count": 27,
      "outputs": [
        {
          "output_type": "stream",
          "name": "stdout",
          "text": [
            "(455, 30) (455,)\n",
            "(114, 30) (114,)\n"
          ]
        },
        {
          "output_type": "display_data",
          "data": {
            "text/plain": [
              "<Figure size 432x288 with 1 Axes>"
            ],
            "image/png": "[encoded data removed]"
          },
          "metadata": {
            "needs_background": "light"
          }
        }
      ]
    },
    {
      "cell_type": "code",
      "source": [
        "# Create a linear SVM classifier\n",
        "clf = svm.SVC(kernel='linear')\n",
        "# Train classifier\n",
        "clf.fit(X_train, y_train)\n",
        "y_pred = clf.predict(X_test)\n",
        "print(\"y_pred : \", y_pred)"
      ],
      "metadata": {
        "colab": {
          "base_uri": "https://localhost:8080/"
        },
        "id": "XhC0LjT-SoHk",
        "outputId": "ef67f913-cd23-4980-c970-0f179295bac5"
      },
      "execution_count": 28,
      "outputs": [
        {
          "output_type": "stream",
          "name": "stdout",
          "text": [
            "y_pred :  [0 1 1 0 1 0 1 1 0 1 1 1 0 0 0 1 1 1 1 0 1 1 1 1 1 1 1 1 1 1 1 0 0 1 1 1 1\n",
            " 1 1 0 1 1 0 1 0 1 0 1 1 1 1 1 1 0 0 0 1 0 1 1 1 0 0 1 0 1 1 1 0 1 0 1 0 1\n",
            " 0 0 1 0 1 1 1 1 0 1 1 0 1 1 1 1 0 1 1 1 1 1 1 0 1 0 1 1 0 0 0 1 0 1 0 1 0\n",
            " 1 1 0]\n"
          ]
        }
      ]
    },
    {
      "cell_type": "code",
      "source": [
        "#Import scikit-learn metrics module for accuracy calculation\n",
        "from sklearn import metrics\n",
        "# Model Accuracy: how often is the classifier correct?\n",
        "print(\"Accuracy : \",metrics.accuracy_score(y_test, y_pred)*100)\n",
        "# Model Precision: what percentage of positive tuples are labeled as such?\n",
        "print(\"Precision : \",metrics.precision_score(y_test, y_pred)*100)\n",
        "# Model Recall: what percentage of positive tuples are labelled as such?\n",
        "print(\"Recall : \",metrics.recall_score(y_test, y_pred)*100)"
      ],
      "metadata": {
        "colab": {
          "base_uri": "https://localhost:8080/"
        },
        "id": "FFR9KKE8Sth0",
        "outputId": "30cf3cc2-2549-4080-9fda-6d085d08f749"
      },
      "execution_count": 29,
      "outputs": [
        {
          "output_type": "stream",
          "name": "stdout",
          "text": [
            "Accuracy :  95.6140350877193\n",
            "Precision :  96.0\n",
            "Recall :  97.2972972972973\n"
          ]
        }
      ]
    },
    {
      "cell_type": "markdown",
      "source": [
        "Try SVM classifier on MNIST dataset, compare the performance of linear, polynomial and RBF kernels."
      ],
      "metadata": {
        "id": "V0SEvCsmTDrl"
      }
    },
    {
      "cell_type": "code",
      "source": [
        "import numpy as np\n",
        "import pandas as pd\n",
        "from sklearn import svm\n",
        "import matplotlib.pyplot as plt\n",
        "from sklearn.model_selection import train_test_split\n",
        "%matplotlib inline"
      ],
      "metadata": {
        "id": "dcrw9FFqTBwz"
      },
      "execution_count": 30,
      "outputs": []
    },
    {
      "cell_type": "code",
      "source": [
        "from tensorflow.keras.datasets import mnist\n",
        "(features_train, targets_train), (features_test, targets_test) = mnist.load_data()\n",
        "features_train, features_test = features_train.reshape([-1, 784]), features_test.reshape([-1, 784])\n",
        "features_train, features_test = features_train / 255., features_test / 255.\n",
        "print(\"features_train.shape : \", features_train.shape)\n",
        "print(\"features_test.shape : \", features_test.shape)\n",
        "print(\"targets_train.shape : \", targets_train.shape)\n",
        "print(\"targets_test.shape : \", targets_test.shape)"
      ],
      "metadata": {
        "colab": {
          "base_uri": "https://localhost:8080/"
        },
        "id": "-at1lU-2TGJE",
        "outputId": "4f191c0a-96d4-4b6b-90aa-ad5891f1fcb8"
      },
      "execution_count": 32,
      "outputs": [
        {
          "output_type": "stream",
          "name": "stdout",
          "text": [
            "features_train.shape :  (60000, 784)\n",
            "features_test.shape :  (10000, 784)\n",
            "targets_train.shape :  (60000,)\n",
            "targets_test.shape :  (10000,)\n"
          ]
        }
      ]
    },
    {
      "cell_type": "code",
      "source": [
        "svm_classifier = svm.SVC(kernel='linear')\n",
        "svm_classifier.fit(features_train[:15000], targets_train[:15000])"
      ],
      "metadata": {
        "colab": {
          "base_uri": "https://localhost:8080/"
        },
        "id": "RL2aZpzKTHuF",
        "outputId": "fd554789-8883-4cbc-e67c-5d666b742535"
      },
      "execution_count": 33,
      "outputs": [
        {
          "output_type": "execute_result",
          "data": {
            "text/plain": [
              "SVC(kernel='linear')"
            ]
          },
          "metadata": {},
          "execution_count": 33
        }
      ]
    },
    {
      "cell_type": "code",
      "source": [
        "prediction = svm_classifier.predict(features_test)\n",
        "print(\"prediction : \", prediction)\n",
        "from sklearn.metrics import accuracy_score\n",
        "\n",
        "print(\"Accuracy - {}%\".format(accuracy_score(y_pred=prediction, y_true=targets_test)*100))"
      ],
      "metadata": {
        "colab": {
          "base_uri": "https://localhost:8080/"
        },
        "id": "dHoubwhJTaGJ",
        "outputId": "32dff740-5923-4419-d5cb-a549f796cb1f"
      },
      "execution_count": 34,
      "outputs": [
        {
          "output_type": "stream",
          "name": "stdout",
          "text": [
            "prediction :  [7 2 1 ... 4 5 6]\n",
            "Accuracy - 92.19000000000001%\n"
          ]
        }
      ]
    },
    {
      "cell_type": "code",
      "source": [
        "svm_classifier = svm.SVC(kernel='poly')\n",
        "svm_classifier.fit(features_train[:15000], targets_train[:15000])"
      ],
      "metadata": {
        "colab": {
          "base_uri": "https://localhost:8080/"
        },
        "id": "l5pcMTmoTkM7",
        "outputId": "4282c27c-717e-45ad-b367-0beb6912d255"
      },
      "execution_count": 35,
      "outputs": [
        {
          "output_type": "execute_result",
          "data": {
            "text/plain": [
              "SVC(kernel='poly')"
            ]
          },
          "metadata": {},
          "execution_count": 35
        }
      ]
    },
    {
      "cell_type": "code",
      "source": [
        "prediction = svm_classifier.predict(features_test)\n",
        "print(prediction)\n",
        "\n",
        "print(\"Accuracy - {}%\".format(accuracy_score(y_pred=prediction, y_true=targets_test)*100))"
      ],
      "metadata": {
        "colab": {
          "base_uri": "https://localhost:8080/"
        },
        "id": "xt53b1aXTp0c",
        "outputId": "23080671-19df-45aa-8d2c-d9a4a558b1ae"
      },
      "execution_count": 36,
      "outputs": [
        {
          "output_type": "stream",
          "name": "stdout",
          "text": [
            "[7 2 1 ... 4 5 6]\n",
            "Accuracy - 96.09%\n"
          ]
        }
      ]
    },
    {
      "cell_type": "code",
      "source": [
        "svm_classifier = svm.SVC(kernel='rbf')\n",
        "svm_classifier.fit(features_train[:15000], targets_train[:15000])"
      ],
      "metadata": {
        "colab": {
          "base_uri": "https://localhost:8080/"
        },
        "id": "mbdj8nQUTy8U",
        "outputId": "5178d7fc-ce03-4f25-eb81-82e905332afc"
      },
      "execution_count": 37,
      "outputs": [
        {
          "output_type": "execute_result",
          "data": {
            "text/plain": [
              "SVC()"
            ]
          },
          "metadata": {},
          "execution_count": 37
        }
      ]
    },
    {
      "cell_type": "code",
      "source": [
        "prediction = svm_classifier.predict(features_test)\n",
        "print(prediction)\n",
        "\n",
        "print(\"Accuracy - {}%\".format(accuracy_score(y_pred=prediction, y_true=targets_test)*100))"
      ],
      "metadata": {
        "colab": {
          "base_uri": "https://localhost:8080/"
        },
        "id": "M_7OV1nFT5Rb",
        "outputId": "5c15997b-2eac-4a3d-da93-3c36795df833"
      },
      "execution_count": 38,
      "outputs": [
        {
          "output_type": "stream",
          "name": "stdout",
          "text": [
            "[7 2 1 ... 4 5 6]\n",
            "Accuracy - 96.67%\n"
          ]
        }
      ]
    },
    {
      "cell_type": "markdown",
      "source": [
        "SVM_Kernel"
      ],
      "metadata": {
        "id": "LWmy4q_SUE0O"
      }
    },
    {
      "cell_type": "code",
      "source": [
        "import numpy as np\n",
        "import pandas as pd\n",
        "import matplotlib.pyplot as plt\n",
        "from matplotlib.axes._axes import _log as matplotlib_axes_logger\n",
        "from mpl_toolkits import mplot3d\n",
        "from sklearn.model_selection import train_test_split\n",
        "from sklearn.svm import SVC\n",
        "from matplotlib.colors import ListedColormap"
      ],
      "metadata": {
        "id": "4Jkt_2lYUB3u"
      },
      "execution_count": 39,
      "outputs": []
    },
    {
      "cell_type": "code",
      "source": [
        "from sklearn.datasets import make_circles\n",
        "X, y = make_circles(100, factor=.1, noise=.1)\n",
        "plt.scatter(X[:, 0], X[:, 1], c=y, s=50, cmap='bwr')"
      ],
      "metadata": {
        "colab": {
          "base_uri": "https://localhost:8080/",
          "height": 282
        },
        "id": "v8YgRmZqUN1p",
        "outputId": "f30dcede-66cf-47c6-ab26-84693d5379a0"
      },
      "execution_count": 40,
      "outputs": [
        {
          "output_type": "execute_result",
          "data": {
            "text/plain": [
              "<matplotlib.collections.PathCollection at 0x7f0bb70c0310>"
            ]
          },
          "metadata": {},
          "execution_count": 40
        },
        {
          "output_type": "display_data",
          "data": {
            "text/plain": [
              "<Figure size 432x288 with 1 Axes>"
            ],
            "image/png": "[encoded data removed]"
          },
          "metadata": {
            "needs_background": "light"
          }
        }
      ]
    },
    {
      "cell_type": "code",
      "source": [
        "X_train, X_test, y_train, y_test = train_test_split(X, y, test_size = 0.20)\n",
        "print(\"X_train : \", X_train)\n",
        "print(\"X_test : \", X_test)\n",
        "print(\"y_train : \", y_train)\n",
        "print(\"y_test : \", y_test)"
      ],
      "metadata": {
        "colab": {
          "base_uri": "https://localhost:8080/"
        },
        "id": "epCZ8XlzVesI",
        "outputId": "1d1092ca-cf8a-44dd-e7be-360a46fd587d"
      },
      "execution_count": 42,
      "outputs": [
        {
          "output_type": "stream",
          "name": "stdout",
          "text": [
            "X_train :  [[ 8.73177845e-02  3.33128040e-02]\n",
            " [-1.02267555e+00  2.76385392e-01]\n",
            " [ 8.63406821e-01 -3.66282576e-01]\n",
            " [-1.42527837e-01  8.48883034e-02]\n",
            " [-6.76783095e-01  9.51134115e-01]\n",
            " [-1.79793524e-01 -1.57609086e-01]\n",
            " [-3.93407482e-01  9.49190693e-01]\n",
            " [-4.07460510e-01 -9.95289466e-01]\n",
            " [-4.59916744e-02  1.90305270e-01]\n",
            " [ 7.99474900e-02  1.71188855e-01]\n",
            " [ 5.14868974e-02  1.14046354e-01]\n",
            " [ 4.61943257e-02 -5.22223267e-02]\n",
            " [-1.02408924e+00  1.76100345e-01]\n",
            " [ 8.59719123e-02 -3.17432316e-02]\n",
            " [-5.06689314e-01 -7.74828734e-01]\n",
            " [ 7.05710130e-02  1.23890068e-01]\n",
            " [ 7.83607063e-01  7.01251984e-02]\n",
            " [ 8.74478329e-03 -9.08740597e-02]\n",
            " [ 3.02882410e-02  1.38883105e-02]\n",
            " [ 8.31635951e-01 -4.31535600e-01]\n",
            " [-1.04101318e-01 -1.73621548e-01]\n",
            " [ 5.97079558e-01  5.90966035e-01]\n",
            " [-7.73405205e-01  4.90598923e-01]\n",
            " [ 1.70547498e-02  3.44782730e-01]\n",
            " [ 8.41196087e-02 -6.45071322e-02]\n",
            " [ 8.76122946e-01 -7.10023160e-01]\n",
            " [-2.40997772e-01  3.53458363e-02]\n",
            " [-1.00602342e-01 -1.94823965e-01]\n",
            " [ 6.83347052e-02  1.04440182e-03]\n",
            " [ 9.41008422e-01  2.71280506e-01]\n",
            " [ 6.84088629e-03  1.20289873e-02]\n",
            " [ 1.77687191e-01  1.26048744e-01]\n",
            " [ 1.12738539e+00  1.09507604e-01]\n",
            " [ 1.54085993e-01 -1.13728108e-01]\n",
            " [ 4.89699419e-01 -8.20073776e-01]\n",
            " [-6.81677405e-01 -8.24718406e-01]\n",
            " [-9.20396714e-02  1.60680879e-02]\n",
            " [-9.72263658e-01 -5.10222030e-01]\n",
            " [-1.30909672e-01  7.78934268e-02]\n",
            " [ 8.59115313e-02  5.49819241e-02]\n",
            " [ 7.66846591e-02  1.21360649e+00]\n",
            " [ 2.41881003e-01  9.78787528e-01]\n",
            " [ 1.88282500e-01  7.64313032e-02]\n",
            " [-2.66211299e-01  4.00099296e-02]\n",
            " [ 4.90813866e-01  8.70651788e-01]\n",
            " [ 6.16871689e-01 -8.77990804e-01]\n",
            " [ 4.44180074e-01  8.36498601e-01]\n",
            " [-4.65812878e-03 -9.97914088e-01]\n",
            " [ 4.38833559e-02 -1.39273266e-01]\n",
            " [-2.08913270e-01  1.27421114e-01]\n",
            " [ 1.52672929e-01 -1.33195196e-01]\n",
            " [-1.44868991e-01  8.01674174e-02]\n",
            " [-9.27493501e-01  3.96828907e-01]\n",
            " [ 1.22198901e-01  6.96763330e-02]\n",
            " [-1.14315871e-02  4.76882574e-02]\n",
            " [-5.26020139e-02 -2.32733618e-02]\n",
            " [-1.34776700e-01  1.33069832e-01]\n",
            " [ 4.36809107e-01 -8.56711298e-01]\n",
            " [-8.33023352e-02 -4.65495055e-02]\n",
            " [ 7.89932021e-02  1.01260046e-02]\n",
            " [ 1.45220692e-01 -1.03028319e-01]\n",
            " [-9.86357610e-01 -8.88674781e-02]\n",
            " [ 3.02361074e-01  9.20497159e-01]\n",
            " [-4.30229599e-01  9.23627097e-01]\n",
            " [-8.58929723e-02  1.05098103e+00]\n",
            " [ 3.37511879e-02 -9.22370208e-01]\n",
            " [-5.74250970e-01  9.12592434e-01]\n",
            " [-1.22743414e-01 -1.42766381e-01]\n",
            " [ 7.78830556e-01  5.56936552e-01]\n",
            " [ 1.27895773e-01 -1.24358740e-01]\n",
            " [-2.92579499e-01  1.11650642e+00]\n",
            " [-8.62253618e-01 -4.74985726e-01]\n",
            " [-7.11297541e-01 -6.57418931e-01]\n",
            " [-2.76113814e-01 -1.11037246e+00]\n",
            " [ 9.19818816e-01  3.86304084e-01]\n",
            " [-6.85623592e-02  7.47494075e-02]\n",
            " [-7.61864313e-01  2.20686635e-01]\n",
            " [-2.75612547e-01  9.80900250e-01]\n",
            " [ 5.38189392e-01  7.30172978e-01]\n",
            " [ 9.44121127e-02 -5.56420493e-02]]\n",
            "X_test :  [[-0.44787273 -0.87656334]\n",
            " [-0.0735999  -0.04134412]\n",
            " [-0.110653   -0.17155885]\n",
            " [-0.04468889  0.00819691]\n",
            " [ 0.92212819 -0.00644167]\n",
            " [ 0.14070351 -0.0395736 ]\n",
            " [ 0.21330765 -1.04980742]\n",
            " [ 0.72482073 -0.56604444]\n",
            " [ 0.33668252 -0.9980422 ]\n",
            " [ 0.05006626  0.02588508]\n",
            " [-0.03959932 -0.12286884]\n",
            " [ 0.20274923 -0.07391953]\n",
            " [ 0.14152757  0.23534574]\n",
            " [-0.97448445  0.03137032]\n",
            " [-0.03616312 -0.11522239]\n",
            " [-1.21047295 -0.16297213]\n",
            " [ 1.04878226 -0.24420479]\n",
            " [-0.70353432 -0.74087331]\n",
            " [ 0.91587562 -0.11757429]\n",
            " [-0.10539813 -0.21556001]]\n",
            "y_train :  [1 0 0 1 0 1 0 0 1 1 1 1 0 1 0 1 0 1 1 0 1 0 0 1 1 0 1 1 1 0 1 1 0 1 0 0 1\n",
            " 0 1 1 0 0 1 1 0 0 0 0 1 1 1 1 0 1 1 1 1 0 1 1 1 0 0 0 0 0 0 1 0 1 0 0 0 0\n",
            " 0 1 0 0 0 1]\n",
            "y_test :  [0 1 1 1 0 1 0 0 0 1 1 1 1 0 1 0 0 0 0 1]\n"
          ]
        }
      ]
    },
    {
      "cell_type": "code",
      "source": [
        "classifier = SVC(kernel=\"linear\")\n",
        "classifier.fit(X_train, y_train.ravel())\n",
        "y_pred = classifier.predict(X_test)"
      ],
      "metadata": {
        "id": "rc3HZBFzV0If"
      },
      "execution_count": 43,
      "outputs": []
    },
    {
      "cell_type": "code",
      "source": [
        "from sklearn.metrics import accuracy_score\n",
        "accuracy_score(y_test, y_pred)"
      ],
      "metadata": {
        "colab": {
          "base_uri": "https://localhost:8080/"
        },
        "id": "yyjg134iV3Kr",
        "outputId": "8bab91a7-aba5-4d5c-f15a-8edf0cec37b1"
      },
      "execution_count": 44,
      "outputs": [
        {
          "output_type": "execute_result",
          "data": {
            "text/plain": [
              "0.5"
            ]
          },
          "metadata": {},
          "execution_count": 44
        }
      ]
    },
    {
      "cell_type": "code",
      "source": [
        "zero_one_colourmap = ListedColormap(('blue', 'red'))\n",
        "def plot_decision_boundary(X, y, clf):\n",
        "    X_set, y_set = X, y\n",
        "    X1, X2 = np.meshgrid(np.arange(start = X_set[:, 0].min() - 1,\n",
        "    stop = X_set[:, 0].max() + 1,\n",
        "    step = 0.01),\n",
        "\n",
        "    np.arange(start = X_set[:, 1].min() - 1,\n",
        "    stop = X_set[:, 1].max() + 1,\n",
        "    step = 0.01))\n",
        "\n",
        "    plt.contourf(X1, X2, clf.predict(np.array([X1.ravel(),\n",
        "\n",
        "    X2.ravel()]).T).reshape(X1.shape),\n",
        "\n",
        "    alpha = 0.75,\n",
        "    cmap = zero_one_colourmap)\n",
        "\n",
        "    plt.xlim(X1.min(), X1.max())\n",
        "    plt.ylim(X2.min(), X2.max())\n",
        "    for i, j in enumerate(np.unique(y_set)):\n",
        "        plt.scatter(X_set[y_set == j, 0], X_set[y_set == j, 1],\n",
        "        c = (zero_one_colourmap)(i), label = j)\n",
        "\n",
        "    plt.title('SVM Decision Boundary')\n",
        "    plt.xlabel('X1')\n",
        "    plt.ylabel('X2')\n",
        "    plt.legend()\n",
        "    return plt.show()"
      ],
      "metadata": {
        "id": "zzmAGIE3V5Dj"
      },
      "execution_count": 45,
      "outputs": []
    },
    {
      "cell_type": "code",
      "source": [
        "plot_decision_boundary(X, y, classifier)"
      ],
      "metadata": {
        "colab": {
          "base_uri": "https://localhost:8080/",
          "height": 350
        },
        "id": "QHHaMwF0V8EG",
        "outputId": "5999afcd-f4d9-4c8c-8128-3911f08bfcf1"
      },
      "execution_count": 46,
      "outputs": [
        {
          "output_type": "stream",
          "name": "stderr",
          "text": [
            "*c* argument looks like a single numeric RGB or RGBA sequence, which should be avoided as value-mapping will have precedence in case its length matches with *x* & *y*.  Please use the *color* keyword-argument or provide a 2-D array with a single row if you intend to specify the same RGB or RGBA value for all points.\n",
            "*c* argument looks like a single numeric RGB or RGBA sequence, which should be avoided as value-mapping will have precedence in case its length matches with *x* & *y*.  Please use the *color* keyword-argument or provide a 2-D array with a single row if you intend to specify the same RGB or RGBA value for all points.\n"
          ]
        },
        {
          "output_type": "display_data",
          "data": {
            "text/plain": [
              "<Figure size 432x288 with 1 Axes>"
            ],
            "image/png": "[encoded data removed]"
          },
          "metadata": {
            "needs_background": "light"
          }
        }
      ]
    },
    {
      "cell_type": "code",
      "source": [
        "def plot_3d_plot(X, y):\n",
        "    r = np.exp(-(X ** 2).sum(1))\n",
        "    ax = plt.subplot(projection='3d')\n",
        "    ax.scatter3D(X[:, 0], X[:, 1], r, c=y, s=100, cmap='bwr')\n",
        "    ax.set_xlabel('X1')\n",
        "    ax.set_ylabel('X2')\n",
        "    ax.set_zlabel('y')\n",
        "    return ax"
      ],
      "metadata": {
        "id": "kk0GK_HyV-Ni"
      },
      "execution_count": 47,
      "outputs": []
    },
    {
      "cell_type": "code",
      "source": [
        "plot_3d_plot(X,y)"
      ],
      "metadata": {
        "colab": {
          "base_uri": "https://localhost:8080/",
          "height": 265
        },
        "id": "DjV3NLTGWAZW",
        "outputId": "4484e83b-5c9b-445e-b24e-3c81f002b538"
      },
      "execution_count": 48,
      "outputs": [
        {
          "output_type": "execute_result",
          "data": {
            "text/plain": [
              "<matplotlib.axes._subplots.Axes3DSubplot at 0x7f0bb7034350>"
            ]
          },
          "metadata": {},
          "execution_count": 48
        },
        {
          "output_type": "display_data",
          "data": {
            "text/plain": [
              "<Figure size 432x288 with 1 Axes>"
            ],
            "image/png": "[encoded data removed]"
          },
          "metadata": {
            "needs_background": "light"
          }
        }
      ]
    },
    {
      "cell_type": "code",
      "source": [
        "rbf_classifier = SVC(kernel=\"rbf\")\n",
        "rbf_classifier.fit(X_train, y_train)\n",
        "y_pred = rbf_classifier.predict(X_test)\n",
        "print(\"y_pred : \", y_pred)"
      ],
      "metadata": {
        "id": "E1efEdDSWCEN"
      },
      "execution_count": 49,
      "outputs": []
    },
    {
      "cell_type": "code",
      "source": [
        "accuracy_score(y_test, y_pred)"
      ],
      "metadata": {
        "colab": {
          "base_uri": "https://localhost:8080/"
        },
        "id": "aW5DFHMtWFFH",
        "outputId": "b34275b2-5c1b-4371-9bb9-9828cacf348d"
      },
      "execution_count": 50,
      "outputs": [
        {
          "output_type": "execute_result",
          "data": {
            "text/plain": [
              "1.0"
            ]
          },
          "metadata": {},
          "execution_count": 50
        }
      ]
    },
    {
      "cell_type": "code",
      "source": [
        "plot_decision_boundary(X, y, rbf_classifier)"
      ],
      "metadata": {
        "colab": {
          "base_uri": "https://localhost:8080/",
          "height": 350
        },
        "id": "Z6ac6RRYWHTr",
        "outputId": "d977c9af-9fec-48dd-d30b-fe386bf3192f"
      },
      "execution_count": 51,
      "outputs": [
        {
          "output_type": "stream",
          "name": "stderr",
          "text": [
            "*c* argument looks like a single numeric RGB or RGBA sequence, which should be avoided as value-mapping will have precedence in case its length matches with *x* & *y*.  Please use the *color* keyword-argument or provide a 2-D array with a single row if you intend to specify the same RGB or RGBA value for all points.\n",
            "*c* argument looks like a single numeric RGB or RGBA sequence, which should be avoided as value-mapping will have precedence in case its length matches with *x* & *y*.  Please use the *color* keyword-argument or provide a 2-D array with a single row if you intend to specify the same RGB or RGBA value for all points.\n"
          ]
        },
        {
          "output_type": "display_data",
          "data": {
            "text/plain": [
              "<Figure size 432x288 with 1 Axes>"
            ],
            "image/png": "[encoded data removed]"
          },
          "metadata": {
            "needs_background": "light"
          }
        }
      ]
    },
    {
      "cell_type": "code",
      "source": [
        "poly_classifier = SVC(kernel=\"poly\",degree=3)\n",
        "poly_classifier.fit(X_train, y_train)\n",
        "y_pred = poly_classifier.predict(X_test)\n",
        "print(\"y_pred : \", y_pred)"
      ],
      "metadata": {
        "colab": {
          "base_uri": "https://localhost:8080/"
        },
        "id": "dYbKxs3GWJlN",
        "outputId": "16087d39-fc99-4a6a-dc09-7ef6e5ddbece"
      },
      "execution_count": 54,
      "outputs": [
        {
          "output_type": "stream",
          "name": "stdout",
          "text": [
            "y_pred :  [1 1 1 1 1 1 1 1 1 1 1 1 1 0 1 0 1 1 1 1]\n"
          ]
        }
      ]
    },
    {
      "cell_type": "code",
      "source": [
        "accuracy_score(y_test, y_pred)"
      ],
      "metadata": {
        "colab": {
          "base_uri": "https://localhost:8080/"
        },
        "id": "mawxvVL4WMa0",
        "outputId": "5e31e816-5e4d-4170-ca9d-8d8c005fd675"
      },
      "execution_count": 55,
      "outputs": [
        {
          "output_type": "execute_result",
          "data": {
            "text/plain": [
              "0.6"
            ]
          },
          "metadata": {},
          "execution_count": 55
        }
      ]
    },
    {
      "cell_type": "code",
      "source": [
        "plot_decision_boundary(X, y, poly_classifier)"
      ],
      "metadata": {
        "colab": {
          "base_uri": "https://localhost:8080/",
          "height": 350
        },
        "id": "SddI30z5Wif2",
        "outputId": "6e2db45d-a427-4dc2-d0b5-c3b538068c84"
      },
      "execution_count": 56,
      "outputs": [
        {
          "output_type": "stream",
          "name": "stderr",
          "text": [
            "*c* argument looks like a single numeric RGB or RGBA sequence, which should be avoided as value-mapping will have precedence in case its length matches with *x* & *y*.  Please use the *color* keyword-argument or provide a 2-D array with a single row if you intend to specify the same RGB or RGBA value for all points.\n",
            "*c* argument looks like a single numeric RGB or RGBA sequence, which should be avoided as value-mapping will have precedence in case its length matches with *x* & *y*.  Please use the *color* keyword-argument or provide a 2-D array with a single row if you intend to specify the same RGB or RGBA value for all points.\n"
          ]
        },
        {
          "output_type": "display_data",
          "data": {
            "text/plain": [
              "<Figure size 432x288 with 1 Axes>"
            ],
            "image/png": "[encoded data removed]"
          },
          "metadata": {
            "needs_background": "light"
          }
        }
      ]
    },
    {
      "cell_type": "code",
      "source": [
        ""
      ],
      "metadata": {
        "id": "TWVLO2tGWl25"
      },
      "execution_count": null,
      "outputs": []
    }
  ]
}