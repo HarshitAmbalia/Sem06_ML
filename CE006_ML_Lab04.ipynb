{
  "nbformat": 4,
  "nbformat_minor": 0,
  "metadata": {
    "colab": {
      "name": "CE006_ML_Lab04",
      "provenance": [],
      "collapsed_sections": []
    },
    "kernelspec": {
      "name": "python3",
      "display_name": "Python 3"
    },
    "language_info": {
      "name": "python"
    }
  },
  "cells": [
    {
      "cell_type": "markdown",
      "source": [
        "# Lab - 04 :"
      ],
      "metadata": {
        "id": "0e8-X2MGh4JR"
      }
    },
    {
      "cell_type": "markdown",
      "source": [
        "## Aim: Implement Linear Regression Algorithm on the given dataset"
      ],
      "metadata": {
        "id": "bxFNtsAmiHYc"
      }
    },
    {
      "cell_type": "code",
      "execution_count": 1,
      "metadata": {
        "id": "Caoij8zJhyya"
      },
      "outputs": [],
      "source": [
        "import numpy as np\n",
        "import torch # It alows to use Torch which is same as Numpy but with strong GPU acceleration"
      ]
    },
    {
      "cell_type": "code",
      "source": [
        "x = torch.randn(3) # There are many functions like this which are supprted in Numpy supprted here as Well\n",
        "print(x,'\\n', x.shape, '\\n') # torch uses tensor, which runs on GPU which is way more faster than CPU\n",
        "npArray = np.array([[0.1, 1.2], [2.2, 3.1], [4.9, 5.2]])\n",
        "print(npArray)\n",
        "tchArray = torch.tensor([[0.1, 1.2], [2.2, 3.1], [4.9, 5.2]])\n",
        "print(tchArray)"
      ],
      "metadata": {
        "colab": {
          "base_uri": "https://localhost:8080/"
        },
        "id": "BUmHCVr2iYna",
        "outputId": "146a45d8-a325-480e-a47f-e293332b0b85"
      },
      "execution_count": 2,
      "outputs": [
        {
          "output_type": "stream",
          "name": "stdout",
          "text": [
            "tensor([1.4388, 0.3829, 0.4142]) \n",
            " torch.Size([3]) \n",
            "\n",
            "[[0.1 1.2]\n",
            " [2.2 3.1]\n",
            " [4.9 5.2]]\n",
            "tensor([[0.1000, 1.2000],\n",
            "        [2.2000, 3.1000],\n",
            "        [4.9000, 5.2000]])\n"
          ]
        }
      ]
    },
    {
      "cell_type": "markdown",
      "source": [
        "### Numpy to Torch Conversion"
      ],
      "metadata": {
        "id": "6Bkmr0MalBqd"
      }
    },
    {
      "cell_type": "code",
      "source": [
        "#Numpy to Torch Conversion DEMO\n",
        "from numpy import random\n",
        "a = random.rand(5)\n",
        "b = torch.from_numpy(a)\n",
        "print('a:',a)\n",
        "print('b:',b)"
      ],
      "metadata": {
        "colab": {
          "base_uri": "https://localhost:8080/"
        },
        "id": "W4L3dZQ0inBw",
        "outputId": "11bf6cbf-c192-43b4-e0de-5dc2008e74e0"
      },
      "execution_count": 6,
      "outputs": [
        {
          "output_type": "stream",
          "name": "stdout",
          "text": [
            "a: [0.25240611 0.19808202 0.7682058  0.37594111 0.40831922]\n",
            "b: tensor([0.2524, 0.1981, 0.7682, 0.3759, 0.4083], dtype=torch.float64)\n"
          ]
        }
      ]
    },
    {
      "cell_type": "markdown",
      "source": [
        "### Taking Inputs"
      ],
      "metadata": {
        "id": "0FJmG9KxmD5z"
      }
    },
    {
      "cell_type": "code",
      "source": [
        "inputs = np.array([[73, 67, 43], [91, 88, 64], [87, 134, 58], [102, 43, 37], [69, 96, 70]], dtype='float32')\n",
        "targets = np.array([[56], [81], [119], [22], [103]], dtype='float32')\n",
        "print(\"Inputs : \", inputs)\n",
        "print(\"Targets : \", targets)"
      ],
      "metadata": {
        "colab": {
          "base_uri": "https://localhost:8080/"
        },
        "id": "uios4sRAixyL",
        "outputId": "347ef831-dbc6-4659-b4c7-281d60691e55"
      },
      "execution_count": 9,
      "outputs": [
        {
          "output_type": "stream",
          "name": "stdout",
          "text": [
            "Inputs :  [[ 73.  67.  43.]\n",
            " [ 91.  88.  64.]\n",
            " [ 87. 134.  58.]\n",
            " [102.  43.  37.]\n",
            " [ 69.  96.  70.]]\n",
            "Targets :  [[ 56.]\n",
            " [ 81.]\n",
            " [119.]\n",
            " [ 22.]\n",
            " [103.]]\n"
          ]
        }
      ]
    },
    {
      "cell_type": "code",
      "source": [
        "# Numpy to Torch Conversion\n",
        "inputs = torch.from_numpy(inputs)\n",
        "targets = torch.from_numpy(targets)\n",
        "print(inputs)\n",
        "print(targets)"
      ],
      "metadata": {
        "colab": {
          "base_uri": "https://localhost:8080/"
        },
        "id": "xCYrcMXljmuA",
        "outputId": "4aaebbcf-a0fc-4a79-8d3b-eba6a7be4070"
      },
      "execution_count": 10,
      "outputs": [
        {
          "output_type": "stream",
          "name": "stdout",
          "text": [
            "tensor([[ 73.,  67.,  43.],\n",
            "        [ 91.,  88.,  64.],\n",
            "        [ 87., 134.,  58.],\n",
            "        [102.,  43.,  37.],\n",
            "        [ 69.,  96.,  70.]])\n",
            "tensor([[ 56.],\n",
            "        [ 81.],\n",
            "        [119.],\n",
            "        [ 22.],\n",
            "        [103.]])\n"
          ]
        }
      ]
    },
    {
      "cell_type": "code",
      "source": [
        "weight = torch.randn(2, 3, requires_grad=True)\n",
        "bias = torch.randn(2, requires_grad=True)\n",
        "print(\"Weight : \", weight)\n",
        "print(\"Bias : \", bias)\n",
        "print(\"Transpose of Weight : \", weight.t())\n",
        "inputs @ weight.t() + bias"
      ],
      "metadata": {
        "colab": {
          "base_uri": "https://localhost:8080/"
        },
        "id": "ynDXU56Ojzz3",
        "outputId": "ce20806b-259b-4ec2-ee1d-00b6bc3cb564"
      },
      "execution_count": 13,
      "outputs": [
        {
          "output_type": "stream",
          "name": "stdout",
          "text": [
            "Weight :  tensor([[-1.3009,  1.1833, -0.5930],\n",
            "        [-0.7427,  0.5476, -0.4383]], requires_grad=True)\n",
            "Bias :  tensor([0.5785, 0.0550], requires_grad=True)\n",
            "Transpose of Weight :  tensor([[-1.3009, -0.7427],\n",
            "        [ 1.1833,  0.5476],\n",
            "        [-0.5930, -0.4383]], grad_fn=<TBackward0>)\n"
          ]
        },
        {
          "output_type": "execute_result",
          "data": {
            "text/plain": [
              "tensor([[ -40.6073,  -36.3244],\n",
              "        [ -51.6278,  -47.3991],\n",
              "        [  11.5636,  -16.6101],\n",
              "        [-103.1736,  -68.3751],\n",
              "        [ -17.0999,  -29.3085]], grad_fn=<AddBackward0>)"
            ]
          },
          "metadata": {},
          "execution_count": 13
        }
      ]
    },
    {
      "cell_type": "markdown",
      "source": [
        "### Predicting for Model Inputs"
      ],
      "metadata": {
        "id": "B5djkLwMmZCz"
      }
    },
    {
      "cell_type": "code",
      "source": [
        "def model(inputs):\n",
        "    return inputs @ weight.t() + bias\n",
        "prediction = model(inputs)\n",
        "print(\"Prediction : \", prediction)"
      ],
      "metadata": {
        "colab": {
          "base_uri": "https://localhost:8080/"
        },
        "id": "yD1Wm7g0kDDR",
        "outputId": "be5e001c-df73-4071-bb19-e42c97d428e3"
      },
      "execution_count": 15,
      "outputs": [
        {
          "output_type": "stream",
          "name": "stdout",
          "text": [
            "Prediction :  tensor([[ -40.6073,  -36.3244],\n",
            "        [ -51.6278,  -47.3991],\n",
            "        [  11.5636,  -16.6101],\n",
            "        [-103.1736,  -68.3751],\n",
            "        [ -17.0999,  -29.3085]], grad_fn=<AddBackward0>)\n"
          ]
        }
      ]
    },
    {
      "cell_type": "markdown",
      "source": [
        "### Loss Function"
      ],
      "metadata": {
        "id": "jkv65Mo5k9ca"
      }
    },
    {
      "cell_type": "code",
      "source": [
        "diff0 = prediction - targets\n",
        "torch.sum(diff0 * diff0) / diff0.numel()\n",
        "def mse(t1, t2):\n",
        "    diff = t1 - t2\n",
        "    return torch.sum(diff * diff) / diff.numel()\n",
        "loss = mse(prediction, targets)\n",
        "print(loss)"
      ],
      "metadata": {
        "colab": {
          "base_uri": "https://localhost:8080/"
        },
        "id": "DQKdP66PkpsV",
        "outputId": "98ecf747-1acf-48f7-ca13-89c220bfdad6"
      },
      "execution_count": 22,
      "outputs": [
        {
          "output_type": "stream",
          "name": "stdout",
          "text": [
            "tensor(55.4095, grad_fn=<DivBackward0>)\n"
          ]
        }
      ]
    },
    {
      "cell_type": "markdown",
      "source": [
        "### Compute Gradiants"
      ],
      "metadata": {
        "id": "uf75SedklKQF"
      }
    },
    {
      "cell_type": "code",
      "source": [
        "loss.backward()\n",
        "print(weight.grad)\n",
        "print(bias.grad)"
      ],
      "metadata": {
        "colab": {
          "base_uri": "https://localhost:8080/"
        },
        "id": "hmd69DC7lG0j",
        "outputId": "65791c0a-b4ea-4246-f907-5c90d802ab1f"
      },
      "execution_count": 17,
      "outputs": [
        {
          "output_type": "stream",
          "name": "stdout",
          "text": [
            "tensor([[ -9904.6055,  -9890.4932,  -6382.4038],\n",
            "        [ -9713.9268, -10448.8730,  -6531.6719]])\n",
            "tensor([-116.3890, -115.8035])\n"
          ]
        }
      ]
    },
    {
      "cell_type": "markdown",
      "source": [
        "### Training the Model"
      ],
      "metadata": {
        "id": "dX4g4qLolTL0"
      }
    },
    {
      "cell_type": "code",
      "source": [
        "with torch.no_grad():\n",
        "    weight -= weight.grad * 1e-5\n",
        "    bias -= bias.grad * 1e-5\n",
        "    weight.grad.zero_()\n",
        "    bias.grad.zero_()\n",
        "prediction = model(inputs)\n",
        "print(\"Prediction : \", prediction)\n",
        "loss = mse(prediction, targets)\n",
        "print(\"loss : \", loss)"
      ],
      "metadata": {
        "colab": {
          "base_uri": "https://localhost:8080/"
        },
        "id": "MseIsb2HlNzh",
        "outputId": "dc6b564c-2623-4f12-860f-ac45fd189329"
      },
      "execution_count": 18,
      "outputs": [
        {
          "output_type": "stream",
          "name": "stdout",
          "text": [
            "Prediction :  tensor([[-24.0047, -19.4227],\n",
            "        [-29.8251, -25.1830],\n",
            "        [ 37.1368,   9.6320],\n",
            "        [-86.4553, -51.5560],\n",
            "        [  3.6980,  -8.0017]], grad_fn=<AddBackward0>)\n",
            "loss :  tensor(9366.4600, grad_fn=<DivBackward0>)\n"
          ]
        }
      ]
    },
    {
      "cell_type": "code",
      "source": [
        "for i in range(100):\n",
        "    prediction = model(inputs)\n",
        "    loss = mse(prediction, targets)\n",
        "    loss.backward()\n",
        "    with torch.no_grad():\n",
        "        weight -= weight.grad * 1e-5\n",
        "        bias -= bias.grad * 1e-5\n",
        "        weight.grad.zero_()\n",
        "        bias.grad.zero_()\n",
        "prediction = model(inputs)\n",
        "print(\"Prediction : \", prediction)\n",
        "loss = mse(prediction, targets)\n",
        "print(\"Loss : \", loss)\n",
        "print(\"Target : \", targets)"
      ],
      "metadata": {
        "colab": {
          "base_uri": "https://localhost:8080/"
        },
        "id": "TthBl6RdliRt",
        "outputId": "e6269df2-c42b-4cfe-8401-af113dc85579"
      },
      "execution_count": 21,
      "outputs": [
        {
          "output_type": "stream",
          "name": "stdout",
          "text": [
            "Prediction :  tensor([[ 57.0037,  57.7207],\n",
            "        [ 75.8432,  77.8955],\n",
            "        [133.4277, 127.6056],\n",
            "        [ 18.9402,  23.7781],\n",
            "        [ 92.2153,  92.8586]], grad_fn=<AddBackward0>)\n",
            "Loss :  tensor(55.4095, grad_fn=<DivBackward0>)\n",
            "Target :  tensor([[ 56.],\n",
            "        [ 81.],\n",
            "        [119.],\n",
            "        [ 22.],\n",
            "        [103.]])\n"
          ]
        }
      ]
    },
    {
      "cell_type": "markdown",
      "source": [
        "# Linear regression using PyTorch built-ins"
      ],
      "metadata": {
        "id": "wDMO1ABBoK_P"
      }
    },
    {
      "cell_type": "code",
      "source": [
        "import numpy as np\n",
        "import torch"
      ],
      "metadata": {
        "id": "k_NEDS9klzya"
      },
      "execution_count": 23,
      "outputs": []
    },
    {
      "cell_type": "code",
      "source": [
        "inputs = np.array([[73, 67, 43], [91, 88, 64], [87, 134, 58], [102, 43, 37], [69, 96, 70]], dtype='float32')\n",
        "# Targets (apples, oranges)\n",
        "targets = np.array([[56, 70], [81, 101], [119, 133], [22, 37], [103, 119]], dtype='float32')\n",
        "print(\"Inputs : \", inputs)\n",
        "print(\"Targets : \", targets)"
      ],
      "metadata": {
        "colab": {
          "base_uri": "https://localhost:8080/"
        },
        "id": "RvfXy-gyBzpC",
        "outputId": "ba75e1e6-ba49-4bf8-981d-ff2d13cdfbef"
      },
      "execution_count": 25,
      "outputs": [
        {
          "output_type": "stream",
          "name": "stdout",
          "text": [
            "Inputs :  [[ 73.  67.  43.]\n",
            " [ 91.  88.  64.]\n",
            " [ 87. 134.  58.]\n",
            " [102.  43.  37.]\n",
            " [ 69.  96.  70.]]\n",
            "Targets :  [[ 56.  70.]\n",
            " [ 81. 101.]\n",
            " [119. 133.]\n",
            " [ 22.  37.]\n",
            " [103. 119.]]\n"
          ]
        }
      ]
    },
    {
      "cell_type": "markdown",
      "source": [
        "### Numpy to Torch Conversion"
      ],
      "metadata": {
        "id": "D_4-9mK5CGT5"
      }
    },
    {
      "cell_type": "code",
      "source": [
        "inputs = torch.from_numpy(inputs)\n",
        "targets = torch.from_numpy(targets)\n",
        "print(\"Inputs : \", inputs)\n",
        "print(\"Targets : \", targets)"
      ],
      "metadata": {
        "colab": {
          "base_uri": "https://localhost:8080/"
        },
        "id": "utv2b_qQCNw7",
        "outputId": "4162753a-ab34-4926-f3c9-7d1a3abb5961"
      },
      "execution_count": 26,
      "outputs": [
        {
          "output_type": "stream",
          "name": "stdout",
          "text": [
            "Inputs :  tensor([[ 73.,  67.,  43.],\n",
            "        [ 91.,  88.,  64.],\n",
            "        [ 87., 134.,  58.],\n",
            "        [102.,  43.,  37.],\n",
            "        [ 69.,  96.,  70.]])\n",
            "Targets :  tensor([[ 56.,  70.],\n",
            "        [ 81., 101.],\n",
            "        [119., 133.],\n",
            "        [ 22.,  37.],\n",
            "        [103., 119.]])\n"
          ]
        }
      ]
    },
    {
      "cell_type": "markdown",
      "source": [
        "### Training Datasets"
      ],
      "metadata": {
        "id": "qMfxAS6SHFdf"
      }
    },
    {
      "cell_type": "code",
      "source": [
        "from torch.utils.data import TensorDataset\n",
        "train_ds = TensorDataset(inputs, targets)\n",
        "train_ds[0:3]"
      ],
      "metadata": {
        "colab": {
          "base_uri": "https://localhost:8080/"
        },
        "id": "txsFqwrNHAv1",
        "outputId": "c7a13d4b-984b-4d8a-9c5e-e36bc49892fa"
      },
      "execution_count": 29,
      "outputs": [
        {
          "output_type": "execute_result",
          "data": {
            "text/plain": [
              "(tensor([[ 73.,  67.,  43.],\n",
              "         [ 91.,  88.,  64.],\n",
              "         [ 87., 134.,  58.]]), tensor([[ 56.,  70.],\n",
              "         [ 81., 101.],\n",
              "         [119., 133.]]))"
            ]
          },
          "metadata": {},
          "execution_count": 29
        }
      ]
    },
    {
      "cell_type": "markdown",
      "source": [
        "### Dataloads"
      ],
      "metadata": {
        "id": "WtgY6z7pHsFq"
      }
    },
    {
      "cell_type": "code",
      "source": [
        "from torch.utils.data import DataLoader\n",
        "batch_size = 5\n",
        "train_dl = DataLoader(train_ds, batch_size, shuffle=True)\n",
        "for xb, yb in train_dl:\n",
        "    print(xb)\n",
        "    print(yb)\n",
        "    break"
      ],
      "metadata": {
        "colab": {
          "base_uri": "https://localhost:8080/"
        },
        "id": "F3ap1Zi0HRH0",
        "outputId": "4cd181db-2925-4bdd-8e80-6448dde39205"
      },
      "execution_count": 30,
      "outputs": [
        {
          "output_type": "stream",
          "name": "stdout",
          "text": [
            "tensor([[ 87., 134.,  58.],\n",
            "        [ 91.,  88.,  64.],\n",
            "        [ 73.,  67.,  43.],\n",
            "        [102.,  43.,  37.],\n",
            "        [ 69.,  96.,  70.]])\n",
            "tensor([[119., 133.],\n",
            "        [ 81., 101.],\n",
            "        [ 56.,  70.],\n",
            "        [ 22.,  37.],\n",
            "        [103., 119.]])\n"
          ]
        }
      ]
    },
    {
      "cell_type": "markdown",
      "source": [
        "### nn.linear"
      ],
      "metadata": {
        "id": "CJ9zFYE3Hvwp"
      }
    },
    {
      "cell_type": "code",
      "source": [
        "import torch.nn as nn\n",
        "model = nn.Linear(3, 2)\n",
        "print(\"Model Weight : \", model.weight)\n",
        "print(\"Model Bias : \", model.bias)\n",
        "list(model.parameters())"
      ],
      "metadata": {
        "colab": {
          "base_uri": "https://localhost:8080/"
        },
        "id": "4V7D6HCuHjAf",
        "outputId": "fba604bb-07ba-48be-c015-e7f1d04e38a7"
      },
      "execution_count": 31,
      "outputs": [
        {
          "output_type": "stream",
          "name": "stdout",
          "text": [
            "Model Weight :  Parameter containing:\n",
            "tensor([[-0.0576,  0.0383, -0.1267],\n",
            "        [ 0.3958, -0.3731,  0.0301]], requires_grad=True)\n",
            "Model Bias :  Parameter containing:\n",
            "tensor([ 0.1621, -0.0466], requires_grad=True)\n"
          ]
        },
        {
          "output_type": "execute_result",
          "data": {
            "text/plain": [
              "[Parameter containing:\n",
              " tensor([[-0.0576,  0.0383, -0.1267],\n",
              "         [ 0.3958, -0.3731,  0.0301]], requires_grad=True),\n",
              " Parameter containing:\n",
              " tensor([ 0.1621, -0.0466], requires_grad=True)]"
            ]
          },
          "metadata": {},
          "execution_count": 31
        }
      ]
    },
    {
      "cell_type": "code",
      "source": [
        "preds = model(inputs)\n",
        "print(\"Preds : \", preds)"
      ],
      "metadata": {
        "colab": {
          "base_uri": "https://localhost:8080/"
        },
        "id": "RmiZiRAqH_E3",
        "outputId": "5a114ce3-7798-4853-f4ca-4a824c65020f"
      },
      "execution_count": 32,
      "outputs": [
        {
          "output_type": "stream",
          "name": "stdout",
          "text": [
            "Preds :  tensor([[ -6.9175,   5.1456],\n",
            "        [ -9.8083,   5.0673],\n",
            "        [ -7.0540, -13.8595],\n",
            "        [ -8.7473,  25.3992],\n",
            "        [ -8.9950,  -6.4457]], grad_fn=<AddmmBackward0>)\n"
          ]
        }
      ]
    },
    {
      "cell_type": "markdown",
      "source": [
        "### Loss Function"
      ],
      "metadata": {
        "id": "X3vU8HeQIJWc"
      }
    },
    {
      "cell_type": "code",
      "source": [
        "import torch.nn.functional as fun\n",
        "loss_fn = fun.mse_loss\n",
        "loss = loss_fn(model(inputs), targets)\n",
        "print(\"Loss : \", loss)"
      ],
      "metadata": {
        "colab": {
          "base_uri": "https://localhost:8080/"
        },
        "id": "lFHv9Dq3IFvv",
        "outputId": "d52d0c2e-7a30-44c3-f96c-ea1cd4b5f003"
      },
      "execution_count": 33,
      "outputs": [
        {
          "output_type": "stream",
          "name": "stdout",
          "text": [
            "Loss :  tensor(9243.0762, grad_fn=<MseLossBackward0>)\n"
          ]
        }
      ]
    },
    {
      "cell_type": "markdown",
      "source": [
        "### Optimiser"
      ],
      "metadata": {
        "id": "YtTjTCoLIlqh"
      }
    },
    {
      "cell_type": "code",
      "source": [
        "opt = torch.optim.SGD(model.parameters(), lr=1e-5)\n",
        "print(opt)"
      ],
      "metadata": {
        "colab": {
          "base_uri": "https://localhost:8080/"
        },
        "id": "N80RbnYgIhps",
        "outputId": "89883468-5b94-4fd9-ebdd-f25e96380c6a"
      },
      "execution_count": 34,
      "outputs": [
        {
          "output_type": "stream",
          "name": "stdout",
          "text": [
            "SGD (\n",
            "Parameter Group 0\n",
            "    dampening: 0\n",
            "    lr: 1e-05\n",
            "    momentum: 0\n",
            "    nesterov: False\n",
            "    weight_decay: 0\n",
            ")\n"
          ]
        }
      ]
    },
    {
      "cell_type": "markdown",
      "source": [
        "### Train for multiple epochs"
      ],
      "metadata": {
        "id": "q5YcGtOSIw-S"
      }
    },
    {
      "cell_type": "code",
      "source": [
        "def fit(num_epochs, model, loss_fn, opt, train_dl):\n",
        "    # Repeat for given number of epochs\n",
        "    for epoch in range(num_epochs):\n",
        "\n",
        "        # Train with batches of data\n",
        "        for xb,yb in train_dl:\n",
        "            pred = model(xb) # Generate predictions\n",
        "            loss = loss_fn(pred, yb) # Calculate loss\n",
        "            loss.backward() # Compute gradients\n",
        "            opt.step() # Update parameters using gradients\n",
        "            opt.zero_grad() # Reset the gradients to zero\n",
        "        # Print the progress\n",
        "        if (epoch+1) % 10 == 0:\n",
        "            print('Epoch {}/{}, Loss: {:.6f}'.format(epoch+1, num_epochs, loss.item()))"
      ],
      "metadata": {
        "id": "OD09bOwtIqOc"
      },
      "execution_count": 40,
      "outputs": []
    },
    {
      "cell_type": "code",
      "source": [
        "fit(100, model, loss_fn, opt, train_dl)"
      ],
      "metadata": {
        "colab": {
          "base_uri": "https://localhost:8080/"
        },
        "id": "y9CsuDPWJOGh",
        "outputId": "6976fd58-0542-49bf-bdf7-b6aaebf01f0f"
      },
      "execution_count": 41,
      "outputs": [
        {
          "output_type": "stream",
          "name": "stdout",
          "text": [
            "Epoch 10/100, Loss: 75.176247\n",
            "Epoch 20/100, Loss: 68.046486\n",
            "Epoch 30/100, Loss: 61.734619\n",
            "Epoch 40/100, Loss: 56.143627\n",
            "Epoch 50/100, Loss: 51.188160\n",
            "Epoch 60/100, Loss: 46.792892\n",
            "Epoch 70/100, Loss: 42.891548\n",
            "Epoch 80/100, Loss: 39.425812\n",
            "Epoch 90/100, Loss: 36.344200\n",
            "Epoch 100/100, Loss: 33.601463\n"
          ]
        }
      ]
    },
    {
      "cell_type": "code",
      "source": [
        "prediction = model(inputs)\n",
        "print(\"Prediction : \", prediction)\n",
        "print(\"Targets : \", targets)"
      ],
      "metadata": {
        "colab": {
          "base_uri": "https://localhost:8080/"
        },
        "id": "wOcpeXNvJUDT",
        "outputId": "ca442bb0-a0df-4c3f-ebea-a1cfb72a3083"
      },
      "execution_count": 42,
      "outputs": [
        {
          "output_type": "stream",
          "name": "stdout",
          "text": [
            "Prediction :  tensor([[ 58.5101,  72.2170],\n",
            "        [ 80.2610,  99.1506],\n",
            "        [120.9569, 133.3470],\n",
            "        [ 28.4524,  47.8676],\n",
            "        [ 94.2660, 110.1519]], grad_fn=<AddmmBackward0>)\n",
            "Targets :  tensor([[ 56.,  70.],\n",
            "        [ 81., 101.],\n",
            "        [119., 133.],\n",
            "        [ 22.,  37.],\n",
            "        [103., 119.]])\n"
          ]
        }
      ]
    },
    {
      "cell_type": "code",
      "source": [
        ""
      ],
      "metadata": {
        "id": "r_md2c3jJsIV"
      },
      "execution_count": null,
      "outputs": []
    }
  ]
}