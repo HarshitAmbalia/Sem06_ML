{
 "cells": [
  {
   "cell_type": "markdown",
   "id": "90604ea1",
   "metadata": {},
   "source": [
    "## Implement Naive Bayes classifier"
   ]
  },
  {
   "cell_type": "markdown",
   "id": "93143cee",
   "metadata": {},
   "source": [
    "### Weather Example  :"
   ]
  },
  {
   "cell_type": "code",
   "execution_count": 1,
   "id": "5e587890",
   "metadata": {},
   "outputs": [],
   "source": [
    "#DataSets\n",
    "from sklearn import preprocessing\n",
    "from sklearn.naive_bayes import GaussianNB, MultinomialNB\n",
    "\n",
    "weather = ['Sunny', 'Sunny', 'Overcast', 'Rainy', 'Rainy','Rainy', 'Overcast',\n",
    "'Sunny', 'Sunny', 'Rainy', 'Sunny', 'Overcast', 'Overcast', 'Rainy']\n",
    "temp = ['Hot','Hot','Hot','Mild','Cool','Cool','Cool','Mild',\n",
    "'Cool','Mild','Mild','Mild','Hot','Mild']\n",
    "play=['No','No','Yes','Yes','Yes','No','Yes','No','Yes',\n",
    "'Yes','Yes','Yes','Yes','No']"
   ]
  },
  {
   "cell_type": "code",
   "execution_count": 2,
   "id": "893789e0",
   "metadata": {},
   "outputs": [
    {
     "name": "stdout",
     "output_type": "stream",
     "text": [
      "Weather: [2 2 0 1 1 1 0 2 2 1 2 0 0 1]\n",
      "Temp: [1 1 1 2 0 0 0 2 0 2 2 2 1 2]\n",
      "Play: [0 0 1 1 1 0 1 0 1 1 1 1 1 0]\n"
     ]
    }
   ],
   "source": [
    "#Encoding\n",
    "le = preprocessing.LabelEncoder()\n",
    "weather_encoded = le.fit_transform(weather)\n",
    "temp_encoded = le.fit_transform(temp)\n",
    "label = le.fit_transform(play)\n",
    "print(\"Weather:\" ,weather_encoded)\n",
    "print(\"Temp:\",temp_encoded)\n",
    "print(\"Play:\",label)"
   ]
  },
  {
   "cell_type": "code",
   "execution_count": 3,
   "id": "04c144ec",
   "metadata": {},
   "outputs": [
    {
     "name": "stdout",
     "output_type": "stream",
     "text": [
      "Zip :  ((2, 1), (2, 1), (0, 1), (1, 2), (1, 0), (1, 0), (0, 0), (2, 2), (2, 0), (1, 2), (2, 2), (0, 2), (0, 1), (1, 2))\n"
     ]
    }
   ],
   "source": [
    "#Combinig weather and temp into zip\n",
    "features = tuple(zip(weather_encoded,temp_encoded))\n",
    "print(\"Zip : \",features)"
   ]
  },
  {
   "cell_type": "code",
   "execution_count": 4,
   "id": "b94a47b9",
   "metadata": {},
   "outputs": [
    {
     "name": "stdout",
     "output_type": "stream",
     "text": [
      "MultinomialNB(alpha=1.0, class_prior=None, fit_prior=True)\n"
     ]
    }
   ],
   "source": [
    "#Create a Classifier & Training data\n",
    "model = MultinomialNB()\n",
    "model.fit(features,label)\n",
    "print(model)"
   ]
  },
  {
   "cell_type": "code",
   "execution_count": 6,
   "id": "99b3b18e",
   "metadata": {},
   "outputs": [
    {
     "name": "stdout",
     "output_type": "stream",
     "text": [
      "Prediction for Overcast & Mild :  [1]\n",
      "Prediction for Overcast & Hot :  [1]\n",
      "Prediction for Sunny & Mild :  [1]\n"
     ]
    }
   ],
   "source": [
    "# Predicting the Output\n",
    "# 0:Overcast, 2:Mild, 1:Hot, @:Sunny\n",
    "predicted = model.predict([[0,2]]) # for Overcast and Mild\n",
    "print(\"Prediction for Overcast & Mild : \", predicted)\n",
    "predicted = model.predict([[0,1]]) # for Overcast and Hot\n",
    "print(\"Prediction for Overcast & Hot : \", predicted)\n",
    "predicted = model.predict([[2,2]]) # for Sunny and Mild\n",
    "print(\"Prediction for Sunny & Mild : \", predicted)"
   ]
  },
  {
   "cell_type": "markdown",
   "id": "8971c9e6",
   "metadata": {},
   "source": [
    "### Iris Classes (Ex-01) : "
   ]
  },
  {
   "cell_type": "code",
   "execution_count": 11,
   "id": "0f512267",
   "metadata": {},
   "outputs": [
    {
     "name": "stdout",
     "output_type": "stream",
     "text": [
      "{'data': array([[5.1, 3.5, 1.4, 0.2],\n",
      "       [4.9, 3. , 1.4, 0.2],\n",
      "       [4.7, 3.2, 1.3, 0.2],\n",
      "       [4.6, 3.1, 1.5, 0.2],\n",
      "       [5. , 3.6, 1.4, 0.2],\n",
      "       [5.4, 3.9, 1.7, 0.4],\n",
      "       [4.6, 3.4, 1.4, 0.3],\n",
      "       [5. , 3.4, 1.5, 0.2],\n",
      "       [4.4, 2.9, 1.4, 0.2],\n",
      "       [4.9, 3.1, 1.5, 0.1],\n",
      "       [5.4, 3.7, 1.5, 0.2],\n",
      "       [4.8, 3.4, 1.6, 0.2],\n",
      "       [4.8, 3. , 1.4, 0.1],\n",
      "       [4.3, 3. , 1.1, 0.1],\n",
      "       [5.8, 4. , 1.2, 0.2],\n",
      "       [5.7, 4.4, 1.5, 0.4],\n",
      "       [5.4, 3.9, 1.3, 0.4],\n",
      "       [5.1, 3.5, 1.4, 0.3],\n",
      "       [5.7, 3.8, 1.7, 0.3],\n",
      "       [5.1, 3.8, 1.5, 0.3],\n",
      "       [5.4, 3.4, 1.7, 0.2],\n",
      "       [5.1, 3.7, 1.5, 0.4],\n",
      "       [4.6, 3.6, 1. , 0.2],\n",
      "       [5.1, 3.3, 1.7, 0.5],\n",
      "       [4.8, 3.4, 1.9, 0.2],\n",
      "       [5. , 3. , 1.6, 0.2],\n",
      "       [5. , 3.4, 1.6, 0.4],\n",
      "       [5.2, 3.5, 1.5, 0.2],\n",
      "       [5.2, 3.4, 1.4, 0.2],\n",
      "       [4.7, 3.2, 1.6, 0.2],\n",
      "       [4.8, 3.1, 1.6, 0.2],\n",
      "       [5.4, 3.4, 1.5, 0.4],\n",
      "       [5.2, 4.1, 1.5, 0.1],\n",
      "       [5.5, 4.2, 1.4, 0.2],\n",
      "       [4.9, 3.1, 1.5, 0.2],\n",
      "       [5. , 3.2, 1.2, 0.2],\n",
      "       [5.5, 3.5, 1.3, 0.2],\n",
      "       [4.9, 3.6, 1.4, 0.1],\n",
      "       [4.4, 3. , 1.3, 0.2],\n",
      "       [5.1, 3.4, 1.5, 0.2],\n",
      "       [5. , 3.5, 1.3, 0.3],\n",
      "       [4.5, 2.3, 1.3, 0.3],\n",
      "       [4.4, 3.2, 1.3, 0.2],\n",
      "       [5. , 3.5, 1.6, 0.6],\n",
      "       [5.1, 3.8, 1.9, 0.4],\n",
      "       [4.8, 3. , 1.4, 0.3],\n",
      "       [5.1, 3.8, 1.6, 0.2],\n",
      "       [4.6, 3.2, 1.4, 0.2],\n",
      "       [5.3, 3.7, 1.5, 0.2],\n",
      "       [5. , 3.3, 1.4, 0.2],\n",
      "       [7. , 3.2, 4.7, 1.4],\n",
      "       [6.4, 3.2, 4.5, 1.5],\n",
      "       [6.9, 3.1, 4.9, 1.5],\n",
      "       [5.5, 2.3, 4. , 1.3],\n",
      "       [6.5, 2.8, 4.6, 1.5],\n",
      "       [5.7, 2.8, 4.5, 1.3],\n",
      "       [6.3, 3.3, 4.7, 1.6],\n",
      "       [4.9, 2.4, 3.3, 1. ],\n",
      "       [6.6, 2.9, 4.6, 1.3],\n",
      "       [5.2, 2.7, 3.9, 1.4],\n",
      "       [5. , 2. , 3.5, 1. ],\n",
      "       [5.9, 3. , 4.2, 1.5],\n",
      "       [6. , 2.2, 4. , 1. ],\n",
      "       [6.1, 2.9, 4.7, 1.4],\n",
      "       [5.6, 2.9, 3.6, 1.3],\n",
      "       [6.7, 3.1, 4.4, 1.4],\n",
      "       [5.6, 3. , 4.5, 1.5],\n",
      "       [5.8, 2.7, 4.1, 1. ],\n",
      "       [6.2, 2.2, 4.5, 1.5],\n",
      "       [5.6, 2.5, 3.9, 1.1],\n",
      "       [5.9, 3.2, 4.8, 1.8],\n",
      "       [6.1, 2.8, 4. , 1.3],\n",
      "       [6.3, 2.5, 4.9, 1.5],\n",
      "       [6.1, 2.8, 4.7, 1.2],\n",
      "       [6.4, 2.9, 4.3, 1.3],\n",
      "       [6.6, 3. , 4.4, 1.4],\n",
      "       [6.8, 2.8, 4.8, 1.4],\n",
      "       [6.7, 3. , 5. , 1.7],\n",
      "       [6. , 2.9, 4.5, 1.5],\n",
      "       [5.7, 2.6, 3.5, 1. ],\n",
      "       [5.5, 2.4, 3.8, 1.1],\n",
      "       [5.5, 2.4, 3.7, 1. ],\n",
      "       [5.8, 2.7, 3.9, 1.2],\n",
      "       [6. , 2.7, 5.1, 1.6],\n",
      "       [5.4, 3. , 4.5, 1.5],\n",
      "       [6. , 3.4, 4.5, 1.6],\n",
      "       [6.7, 3.1, 4.7, 1.5],\n",
      "       [6.3, 2.3, 4.4, 1.3],\n",
      "       [5.6, 3. , 4.1, 1.3],\n",
      "       [5.5, 2.5, 4. , 1.3],\n",
      "       [5.5, 2.6, 4.4, 1.2],\n",
      "       [6.1, 3. , 4.6, 1.4],\n",
      "       [5.8, 2.6, 4. , 1.2],\n",
      "       [5. , 2.3, 3.3, 1. ],\n",
      "       [5.6, 2.7, 4.2, 1.3],\n",
      "       [5.7, 3. , 4.2, 1.2],\n",
      "       [5.7, 2.9, 4.2, 1.3],\n",
      "       [6.2, 2.9, 4.3, 1.3],\n",
      "       [5.1, 2.5, 3. , 1.1],\n",
      "       [5.7, 2.8, 4.1, 1.3],\n",
      "       [6.3, 3.3, 6. , 2.5],\n",
      "       [5.8, 2.7, 5.1, 1.9],\n",
      "       [7.1, 3. , 5.9, 2.1],\n",
      "       [6.3, 2.9, 5.6, 1.8],\n",
      "       [6.5, 3. , 5.8, 2.2],\n",
      "       [7.6, 3. , 6.6, 2.1],\n",
      "       [4.9, 2.5, 4.5, 1.7],\n",
      "       [7.3, 2.9, 6.3, 1.8],\n",
      "       [6.7, 2.5, 5.8, 1.8],\n",
      "       [7.2, 3.6, 6.1, 2.5],\n",
      "       [6.5, 3.2, 5.1, 2. ],\n",
      "       [6.4, 2.7, 5.3, 1.9],\n",
      "       [6.8, 3. , 5.5, 2.1],\n",
      "       [5.7, 2.5, 5. , 2. ],\n",
      "       [5.8, 2.8, 5.1, 2.4],\n",
      "       [6.4, 3.2, 5.3, 2.3],\n",
      "       [6.5, 3. , 5.5, 1.8],\n",
      "       [7.7, 3.8, 6.7, 2.2],\n",
      "       [7.7, 2.6, 6.9, 2.3],\n",
      "       [6. , 2.2, 5. , 1.5],\n",
      "       [6.9, 3.2, 5.7, 2.3],\n",
      "       [5.6, 2.8, 4.9, 2. ],\n",
      "       [7.7, 2.8, 6.7, 2. ],\n",
      "       [6.3, 2.7, 4.9, 1.8],\n",
      "       [6.7, 3.3, 5.7, 2.1],\n",
      "       [7.2, 3.2, 6. , 1.8],\n",
      "       [6.2, 2.8, 4.8, 1.8],\n",
      "       [6.1, 3. , 4.9, 1.8],\n",
      "       [6.4, 2.8, 5.6, 2.1],\n",
      "       [7.2, 3. , 5.8, 1.6],\n",
      "       [7.4, 2.8, 6.1, 1.9],\n",
      "       [7.9, 3.8, 6.4, 2. ],\n",
      "       [6.4, 2.8, 5.6, 2.2],\n",
      "       [6.3, 2.8, 5.1, 1.5],\n",
      "       [6.1, 2.6, 5.6, 1.4],\n",
      "       [7.7, 3. , 6.1, 2.3],\n",
      "       [6.3, 3.4, 5.6, 2.4],\n",
      "       [6.4, 3.1, 5.5, 1.8],\n",
      "       [6. , 3. , 4.8, 1.8],\n",
      "       [6.9, 3.1, 5.4, 2.1],\n",
      "       [6.7, 3.1, 5.6, 2.4],\n",
      "       [6.9, 3.1, 5.1, 2.3],\n",
      "       [5.8, 2.7, 5.1, 1.9],\n",
      "       [6.8, 3.2, 5.9, 2.3],\n",
      "       [6.7, 3.3, 5.7, 2.5],\n",
      "       [6.7, 3. , 5.2, 2.3],\n",
      "       [6.3, 2.5, 5. , 1.9],\n",
      "       [6.5, 3. , 5.2, 2. ],\n",
      "       [6.2, 3.4, 5.4, 2.3],\n",
      "       [5.9, 3. , 5.1, 1.8]]), 'target': array([0, 0, 0, 0, 0, 0, 0, 0, 0, 0, 0, 0, 0, 0, 0, 0, 0, 0, 0, 0, 0, 0,\n",
      "       0, 0, 0, 0, 0, 0, 0, 0, 0, 0, 0, 0, 0, 0, 0, 0, 0, 0, 0, 0, 0, 0,\n",
      "       0, 0, 0, 0, 0, 0, 1, 1, 1, 1, 1, 1, 1, 1, 1, 1, 1, 1, 1, 1, 1, 1,\n",
      "       1, 1, 1, 1, 1, 1, 1, 1, 1, 1, 1, 1, 1, 1, 1, 1, 1, 1, 1, 1, 1, 1,\n",
      "       1, 1, 1, 1, 1, 1, 1, 1, 1, 1, 1, 1, 2, 2, 2, 2, 2, 2, 2, 2, 2, 2,\n",
      "       2, 2, 2, 2, 2, 2, 2, 2, 2, 2, 2, 2, 2, 2, 2, 2, 2, 2, 2, 2, 2, 2,\n",
      "       2, 2, 2, 2, 2, 2, 2, 2, 2, 2, 2, 2, 2, 2, 2, 2, 2, 2]), 'target_names': array(['setosa', 'versicolor', 'virginica'], dtype='<U10'), 'DESCR': '.. _iris_dataset:\\n\\nIris plants dataset\\n--------------------\\n\\n**Data Set Characteristics:**\\n\\n    :Number of Instances: 150 (50 in each of three classes)\\n    :Number of Attributes: 4 numeric, predictive attributes and the class\\n    :Attribute Information:\\n        - sepal length in cm\\n        - sepal width in cm\\n        - petal length in cm\\n        - petal width in cm\\n        - class:\\n                - Iris-Setosa\\n                - Iris-Versicolour\\n                - Iris-Virginica\\n                \\n    :Summary Statistics:\\n\\n    ============== ==== ==== ======= ===== ====================\\n                    Min  Max   Mean    SD   Class Correlation\\n    ============== ==== ==== ======= ===== ====================\\n    sepal length:   4.3  7.9   5.84   0.83    0.7826\\n    sepal width:    2.0  4.4   3.05   0.43   -0.4194\\n    petal length:   1.0  6.9   3.76   1.76    0.9490  (high!)\\n    petal width:    0.1  2.5   1.20   0.76    0.9565  (high!)\\n    ============== ==== ==== ======= ===== ====================\\n\\n    :Missing Attribute Values: None\\n    :Class Distribution: 33.3% for each of 3 classes.\\n    :Creator: R.A. Fisher\\n    :Donor: Michael Marshall (MARSHALL%PLU@io.arc.nasa.gov)\\n    :Date: July, 1988\\n\\nThe famous Iris database, first used by Sir R.A. Fisher. The dataset is taken\\nfrom Fisher\\'s paper. Note that it\\'s the same as in R, but not as in the UCI\\nMachine Learning Repository, which has two wrong data points.\\n\\nThis is perhaps the best known database to be found in the\\npattern recognition literature.  Fisher\\'s paper is a classic in the field and\\nis referenced frequently to this day.  (See Duda & Hart, for example.)  The\\ndata set contains 3 classes of 50 instances each, where each class refers to a\\ntype of iris plant.  One class is linearly separable from the other 2; the\\nlatter are NOT linearly separable from each other.\\n\\n.. topic:: References\\n\\n   - Fisher, R.A. \"The use of multiple measurements in taxonomic problems\"\\n     Annual Eugenics, 7, Part II, 179-188 (1936); also in \"Contributions to\\n     Mathematical Statistics\" (John Wiley, NY, 1950).\\n   - Duda, R.O., & Hart, P.E. (1973) Pattern Classification and Scene Analysis.\\n     (Q327.D83) John Wiley & Sons.  ISBN 0-471-22361-1.  See page 218.\\n   - Dasarathy, B.V. (1980) \"Nosing Around the Neighborhood: A New System\\n     Structure and Classification Rule for Recognition in Partially Exposed\\n     Environments\".  IEEE Transactions on Pattern Analysis and Machine\\n     Intelligence, Vol. PAMI-2, No. 1, 67-71.\\n   - Gates, G.W. (1972) \"The Reduced Nearest Neighbor Rule\".  IEEE Transactions\\n     on Information Theory, May 1972, 431-433.\\n   - See also: 1988 MLC Proceedings, 54-64.  Cheeseman et al\"s AUTOCLASS II\\n     conceptual clustering system finds 3 classes in the data.\\n   - Many, many more ...', 'feature_names': ['sepal length (cm)', 'sepal width (cm)', 'petal length (cm)', 'petal width (cm)'], 'filename': '/usr/lib/python3/dist-packages/sklearn/datasets/data/iris.csv'}\n",
      "Features :  ['sepal length (cm)', 'sepal width (cm)', 'petal length (cm)', 'petal width (cm)']\n",
      "Labels :  ['setosa' 'versicolor' 'virginica']\n",
      "Data shape :  (150, 4)\n",
      "Traget shape :  (150,)\n"
     ]
    }
   ],
   "source": [
    "import numpy as np\n",
    "from sklearn import datasets\n",
    "from sklearn.naive_bayes import GaussianNB\n",
    "\n",
    "#Load dataset\n",
    "iris = datasets.load_iris()\n",
    "print(iris)\n",
    "# Print the names of Features\n",
    "print(\"Features : \", iris.feature_names)\n",
    "# Print the Labels\n",
    "print(\"Labels : \", iris.target_names)\n",
    "# print feature shape\n",
    "print(\"Data shape : \",iris.data.shape)\n",
    "# print target shape\n",
    "print(\"Traget shape : \",iris.target.shape)"
   ]
  },
  {
   "cell_type": "code",
   "execution_count": 12,
   "id": "e36b4db1",
   "metadata": {},
   "outputs": [
    {
     "name": "stdout",
     "output_type": "stream",
     "text": [
      "New Data shape:  (100, 4)\n",
      "New Traget shape:  (100,)\n"
     ]
    }
   ],
   "source": [
    "#Reshaping the Data\n",
    "newdata = iris.data[50:,:]\n",
    "newtarget = iris.target[50:]\n",
    "# print shape of Features data\n",
    "print(\"New Data shape: \",newdata.shape)\n",
    "# print shape of Target data\n",
    "print(\"New Traget shape: \",newtarget.shape)"
   ]
  },
  {
   "cell_type": "code",
   "execution_count": 14,
   "id": "bea9a8a8",
   "metadata": {},
   "outputs": [
    {
     "name": "stdout",
     "output_type": "stream",
     "text": [
      "Training data :  [[6.3 3.3 4.7 1.6]\n",
      " [6.  3.  4.8 1.8]\n",
      " [5.8 2.8 5.1 2.4]\n",
      " [6.8 2.8 4.8 1.4]\n",
      " [5.1 2.5 3.  1.1]\n",
      " [6.3 3.3 6.  2.5]\n",
      " [7.7 2.8 6.7 2. ]\n",
      " [6.5 3.  5.8 2.2]\n",
      " [6.1 2.8 4.  1.3]\n",
      " [6.6 3.  4.4 1.4]\n",
      " [6.  2.7 5.1 1.6]\n",
      " [5.7 2.6 3.5 1. ]\n",
      " [7.1 3.  5.9 2.1]\n",
      " [5.6 2.9 3.6 1.3]\n",
      " [7.7 3.  6.1 2.3]\n",
      " [7.2 3.  5.8 1.6]\n",
      " [6.7 3.  5.2 2.3]\n",
      " [5.5 2.3 4.  1.3]\n",
      " [5.  2.3 3.3 1. ]\n",
      " [5.9 3.  4.2 1.5]\n",
      " [6.2 3.4 5.4 2.3]\n",
      " [5.7 3.  4.2 1.2]\n",
      " [6.3 2.8 5.1 1.5]\n",
      " [7.7 3.8 6.7 2.2]\n",
      " [6.9 3.1 5.4 2.1]\n",
      " [6.3 3.4 5.6 2.4]\n",
      " [5.7 2.8 4.1 1.3]\n",
      " [6.4 2.8 5.6 2.2]\n",
      " [7.2 3.6 6.1 2.5]\n",
      " [5.6 2.5 3.9 1.1]\n",
      " [7.9 3.8 6.4 2. ]\n",
      " [5.6 3.  4.1 1.3]\n",
      " [7.7 2.6 6.9 2.3]\n",
      " [6.9 3.1 4.9 1.5]\n",
      " [5.5 2.4 3.7 1. ]\n",
      " [6.1 2.6 5.6 1.4]\n",
      " [5.8 2.7 5.1 1.9]\n",
      " [6.7 3.1 4.7 1.5]\n",
      " [6.5 2.8 4.6 1.5]\n",
      " [7.  3.2 4.7 1.4]\n",
      " [6.7 2.5 5.8 1.8]\n",
      " [5.7 2.8 4.5 1.3]\n",
      " [6.3 2.5 5.  1.9]\n",
      " [6.4 3.2 4.5 1.5]\n",
      " [6.8 3.2 5.9 2.3]\n",
      " [6.1 3.  4.6 1.4]\n",
      " [5.2 2.7 3.9 1.4]\n",
      " [6.2 2.2 4.5 1.5]\n",
      " [6.9 3.1 5.1 2.3]\n",
      " [6.2 2.9 4.3 1.3]\n",
      " [6.4 3.2 5.3 2.3]\n",
      " [7.2 3.2 6.  1.8]\n",
      " [6.1 3.  4.9 1.8]\n",
      " [5.6 2.7 4.2 1.3]\n",
      " [5.8 2.7 5.1 1.9]\n",
      " [6.7 3.1 5.6 2.4]\n",
      " [6.3 2.9 5.6 1.8]\n",
      " [6.7 3.1 4.4 1.4]\n",
      " [6.2 2.8 4.8 1.8]\n",
      " [4.9 2.4 3.3 1. ]\n",
      " [7.4 2.8 6.1 1.9]\n",
      " [5.5 2.4 3.8 1.1]\n",
      " [6.7 3.  5.  1.7]\n",
      " [6.8 3.  5.5 2.1]\n",
      " [6.6 2.9 4.6 1.3]\n",
      " [6.3 2.7 4.9 1.8]\n",
      " [5.6 3.  4.5 1.5]\n",
      " [6.4 2.7 5.3 1.9]\n",
      " [6.4 2.8 5.6 2.1]\n",
      " [5.9 3.  5.1 1.8]]\n",
      "Testing data :  [[6.5 3.  5.5 1.8]\n",
      " [5.8 2.7 3.9 1.2]\n",
      " [5.7 2.9 4.2 1.3]\n",
      " [6.  2.9 4.5 1.5]\n",
      " [6.7 3.3 5.7 2.1]\n",
      " [6.1 2.8 4.7 1.2]\n",
      " [5.  2.  3.5 1. ]\n",
      " [5.9 3.2 4.8 1.8]\n",
      " [5.8 2.7 4.1 1. ]\n",
      " [6.  3.4 4.5 1.6]\n",
      " [6.5 3.  5.2 2. ]\n",
      " [6.3 2.3 4.4 1.3]\n",
      " [6.9 3.2 5.7 2.3]\n",
      " [5.5 2.6 4.4 1.2]\n",
      " [6.5 3.2 5.1 2. ]\n",
      " [5.4 3.  4.5 1.5]\n",
      " [5.8 2.6 4.  1.2]\n",
      " [7.3 2.9 6.3 1.8]\n",
      " [6.  2.2 4.  1. ]\n",
      " [6.  2.2 5.  1.5]\n",
      " [6.7 3.3 5.7 2.5]\n",
      " [4.9 2.5 4.5 1.7]\n",
      " [6.3 2.5 4.9 1.5]\n",
      " [5.5 2.5 4.  1.3]\n",
      " [6.4 2.9 4.3 1.3]\n",
      " [6.1 2.9 4.7 1.4]\n",
      " [5.7 2.5 5.  2. ]\n",
      " [5.6 2.8 4.9 2. ]\n",
      " [7.6 3.  6.6 2.1]\n",
      " [6.4 3.1 5.5 1.8]]\n",
      "Training target :  [1 2 2 1 1 2 2 2 1 1 1 1 2 1 2 2 2 1 1 1 2 1 2 2 2 2 1 2 2 1 2 1 2 1 1 2 2\n",
      " 1 1 1 2 1 2 1 2 1 1 1 2 1 2 2 2 1 2 2 2 1 2 1 2 1 1 2 1 2 1 2 2 2]\n",
      "Testing target :  [2 1 1 1 2 1 1 1 1 1 2 1 2 1 2 1 1 2 1 2 2 2 1 1 1 1 2 2 2 2]\n"
     ]
    }
   ],
   "source": [
    "# Splitting the training data\n",
    "from sklearn.model_selection import train_test_split\n",
    "#split data set into train and test sets\n",
    "data_train, data_test, target_train, target_test = train_test_split(newdata,\n",
    "newtarget, test_size = 0.30, random_state = 5)\n",
    "print(\"Training data : \", data_train)\n",
    "print(\"Testing data : \", data_test)\n",
    "print(\"Training target : \", target_train)\n",
    "print(\"Testing target : \", target_test)"
   ]
  },
  {
   "cell_type": "code",
   "execution_count": 15,
   "id": "035724f8",
   "metadata": {},
   "outputs": [
    {
     "data": {
      "text/plain": [
       "GaussianNB(priors=None, var_smoothing=1e-09)"
      ]
     },
     "execution_count": 15,
     "metadata": {},
     "output_type": "execute_result"
    }
   ],
   "source": [
    "# Training the Datasets\n",
    "import numpy as np\n",
    "gnb = GaussianNB()\n",
    "#Train the model using the training sets\n",
    "gnb.fit(data_train, target_train)"
   ]
  },
  {
   "cell_type": "code",
   "execution_count": 17,
   "id": "b5f9243b",
   "metadata": {},
   "outputs": [
    {
     "name": "stdout",
     "output_type": "stream",
     "text": [
      "[2 1 1 1 2 1 1 2 1 1 2 1 2 1 2 1 1 2 1 1 2 1 1 1 1 1 2 2 2 2]\n"
     ]
    }
   ],
   "source": [
    "#Predict the response for test dataset\n",
    "target_pred = gnb.predict(data_test)\n",
    "print(target_pred)"
   ]
  },
  {
   "cell_type": "code",
   "execution_count": 25,
   "id": "f801f034",
   "metadata": {},
   "outputs": [
    {
     "name": "stdout",
     "output_type": "stream",
     "text": [
      "Accuracy :  0.9\n"
     ]
    }
   ],
   "source": [
    "# Calculating accuracy\n",
    "from sklearn import metrics\n",
    "print(\"Accuracy : \",metrics.accuracy_score(target_test, target_pred))"
   ]
  },
  {
   "cell_type": "code",
   "execution_count": 26,
   "id": "0fa9f7e1",
   "metadata": {},
   "outputs": [
    {
     "data": {
      "text/plain": [
       "array([[16,  1],\n",
       "       [ 2, 11]])"
      ]
     },
     "execution_count": 26,
     "metadata": {},
     "output_type": "execute_result"
    }
   ],
   "source": [
    "#Import confusion_matrix for confusion_matrix\n",
    "from sklearn.metrics import confusion_matrix\n",
    "confusion_matrix(target_test, target_pred)"
   ]
  },
  {
   "cell_type": "code",
   "execution_count": 30,
   "id": "bfec0a3a",
   "metadata": {},
   "outputs": [
    {
     "name": "stdout",
     "output_type": "stream",
     "text": [
      "precision: 0.8888888888888888\n",
      "recall: 0.9411764705882353\n"
     ]
    }
   ],
   "source": [
    "from sklearn.metrics import precision_score\n",
    "from sklearn.metrics import recall_score\n",
    "precision = precision_score(target_test, target_pred)\n",
    "recall = recall_score(target_test, target_pred)\n",
    "print('precision : {}'.format(precision))\n",
    "print('recall : {}'.format(recall))"
   ]
  },
  {
   "cell_type": "markdown",
   "id": "a9aa7f5c",
   "metadata": {},
   "source": [
    "### Iris Classes (Ex-02) : "
   ]
  },
  {
   "cell_type": "code",
   "execution_count": 32,
   "id": "cf9f72ef",
   "metadata": {},
   "outputs": [
    {
     "name": "stdout",
     "output_type": "stream",
     "text": [
      "Features:  ['sepal length (cm)', 'sepal width (cm)', 'petal length (cm)', 'petal width (cm)']\n",
      "Labels:  ['setosa' 'versicolor' 'virginica']\n",
      "(150, 4)\n"
     ]
    }
   ],
   "source": [
    "from sklearn import datasets\n",
    "from sklearn.naive_bayes import GaussianNB\n",
    "#Load dataset\n",
    "iris = datasets.load_iris()\n",
    "\n",
    "# print the names of features\n",
    "print(\"Features: \", iris.feature_names)\n",
    "# print the labels\n",
    "print(\"Labels: \", iris.target_names)\n",
    "# print data(feature)shape\n",
    "print(iris.data.shape)"
   ]
  },
  {
   "cell_type": "code",
   "execution_count": 33,
   "id": "894fcabb",
   "metadata": {},
   "outputs": [
    {
     "name": "stdout",
     "output_type": "stream",
     "text": [
      "Training data :  [[5.2 4.1 1.5 0.1]\n",
      " [6.9 3.1 4.9 1.5]\n",
      " [5.9 3.2 4.8 1.8]\n",
      " [5.6 2.8 4.9 2. ]\n",
      " [6.7 3.3 5.7 2.5]\n",
      " [6.2 2.2 4.5 1.5]\n",
      " [7.2 3.6 6.1 2.5]\n",
      " [5.5 2.4 3.7 1. ]\n",
      " [6.  2.9 4.5 1.5]\n",
      " [6.4 3.2 4.5 1.5]\n",
      " [5.8 4.  1.2 0.2]\n",
      " [5.3 3.7 1.5 0.2]\n",
      " [6.1 2.9 4.7 1.4]\n",
      " [5.4 3.4 1.7 0.2]\n",
      " [6.4 3.1 5.5 1.8]\n",
      " [4.7 3.2 1.6 0.2]\n",
      " [4.6 3.1 1.5 0.2]\n",
      " [4.9 2.5 4.5 1.7]\n",
      " [5.1 2.5 3.  1.1]\n",
      " [6.7 3.1 5.6 2.4]\n",
      " [4.9 3.6 1.4 0.1]\n",
      " [6.9 3.1 5.4 2.1]\n",
      " [4.8 3.  1.4 0.3]\n",
      " [5.8 2.7 3.9 1.2]\n",
      " [6.  2.7 5.1 1.6]\n",
      " [4.4 3.2 1.3 0.2]\n",
      " [6.8 3.2 5.9 2.3]\n",
      " [7.9 3.8 6.4 2. ]\n",
      " [6.5 3.  5.5 1.8]\n",
      " [7.6 3.  6.6 2.1]\n",
      " [6.3 2.8 5.1 1.5]\n",
      " [4.6 3.4 1.4 0.3]\n",
      " [5.7 2.6 3.5 1. ]\n",
      " [6.7 2.5 5.8 1.8]\n",
      " [5.7 2.8 4.1 1.3]\n",
      " [4.9 3.1 1.5 0.2]\n",
      " [6.4 2.8 5.6 2.1]\n",
      " [7.  3.2 4.7 1.4]\n",
      " [5.7 2.9 4.2 1.3]\n",
      " [5.  3.6 1.4 0.2]\n",
      " [5.4 3.9 1.7 0.4]\n",
      " [5.1 3.8 1.9 0.4]\n",
      " [5.4 3.  4.5 1.5]\n",
      " [7.4 2.8 6.1 1.9]\n",
      " [6.3 2.9 5.6 1.8]\n",
      " [6.6 3.  4.4 1.4]\n",
      " [5.  3.4 1.5 0.2]\n",
      " [5.1 3.8 1.6 0.2]\n",
      " [5.1 3.5 1.4 0.3]\n",
      " [6.5 3.  5.8 2.2]\n",
      " [5.8 2.7 5.1 1.9]\n",
      " [6.1 2.8 4.  1.3]\n",
      " [5.5 2.4 3.8 1.1]\n",
      " [6.5 3.2 5.1 2. ]\n",
      " [6.5 3.  5.2 2. ]\n",
      " [5.9 3.  5.1 1.8]\n",
      " [6.1 2.6 5.6 1.4]\n",
      " [6.4 2.9 4.3 1.3]\n",
      " [5.2 3.4 1.4 0.2]\n",
      " [4.8 3.4 1.6 0.2]\n",
      " [5.6 2.7 4.2 1.3]\n",
      " [5.1 3.3 1.7 0.5]\n",
      " [4.6 3.6 1.  0.2]\n",
      " [6.1 3.  4.9 1.8]\n",
      " [5.  2.3 3.3 1. ]\n",
      " [5.7 3.8 1.7 0.3]\n",
      " [5.2 3.5 1.5 0.2]\n",
      " [5.5 3.5 1.3 0.2]\n",
      " [4.9 2.4 3.3 1. ]\n",
      " [5.4 3.4 1.5 0.4]\n",
      " [6.7 3.1 4.4 1.4]\n",
      " [4.8 3.  1.4 0.1]\n",
      " [5.5 2.5 4.  1.3]\n",
      " [6.  2.2 5.  1.5]\n",
      " [4.8 3.1 1.6 0.2]\n",
      " [6.7 3.1 4.7 1.5]\n",
      " [5.8 2.6 4.  1.2]\n",
      " [6.2 3.4 5.4 2.3]\n",
      " [5.  3.  1.6 0.2]\n",
      " [6.  3.  4.8 1.8]\n",
      " [4.3 3.  1.1 0.1]\n",
      " [5.6 2.5 3.9 1.1]\n",
      " [6.7 3.  5.  1.7]\n",
      " [7.7 3.  6.1 2.3]\n",
      " [6.3 3.4 5.6 2.4]\n",
      " [5.5 4.2 1.4 0.2]\n",
      " [6.  2.2 4.  1. ]\n",
      " [7.7 2.8 6.7 2. ]\n",
      " [7.3 2.9 6.3 1.8]\n",
      " [5.6 3.  4.1 1.3]\n",
      " [6.5 2.8 4.6 1.5]\n",
      " [6.3 3.3 6.  2.5]\n",
      " [5.4 3.9 1.3 0.4]\n",
      " [6.4 3.2 5.3 2.3]\n",
      " [5.  3.5 1.3 0.3]\n",
      " [5.1 3.5 1.4 0.2]\n",
      " [6.1 2.8 4.7 1.2]\n",
      " [4.4 2.9 1.4 0.2]\n",
      " [6.7 3.  5.2 2.3]\n",
      " [6.3 2.7 4.9 1.8]\n",
      " [5.7 2.5 5.  2. ]\n",
      " [5.6 2.9 3.6 1.3]\n",
      " [5.7 4.4 1.5 0.4]\n",
      " [7.2 3.2 6.  1.8]\n",
      " [4.9 3.1 1.5 0.1]]\n",
      "Testing data :  [[6.3 2.3 4.4 1.3]\n",
      " [6.4 2.7 5.3 1.9]\n",
      " [5.4 3.7 1.5 0.2]\n",
      " [6.1 3.  4.6 1.4]\n",
      " [5.  3.3 1.4 0.2]\n",
      " [5.  2.  3.5 1. ]\n",
      " [6.3 2.5 4.9 1.5]\n",
      " [5.8 2.7 4.1 1. ]\n",
      " [5.1 3.4 1.5 0.2]\n",
      " [5.7 2.8 4.5 1.3]\n",
      " [5.6 3.  4.5 1.5]\n",
      " [5.8 2.7 5.1 1.9]\n",
      " [5.5 2.3 4.  1.3]\n",
      " [4.9 3.  1.4 0.2]\n",
      " [5.1 3.8 1.5 0.3]\n",
      " [6.8 3.  5.5 2.1]\n",
      " [6.  3.4 4.5 1.6]\n",
      " [4.4 3.  1.3 0.2]\n",
      " [5.1 3.7 1.5 0.4]\n",
      " [5.  3.2 1.2 0.2]\n",
      " [7.1 3.  5.9 2.1]\n",
      " [6.4 2.8 5.6 2.2]\n",
      " [6.2 2.8 4.8 1.8]\n",
      " [4.8 3.4 1.9 0.2]\n",
      " [5.9 3.  4.2 1.5]\n",
      " [4.7 3.2 1.3 0.2]\n",
      " [5.7 3.  4.2 1.2]\n",
      " [5.5 2.6 4.4 1.2]\n",
      " [6.8 2.8 4.8 1.4]\n",
      " [7.7 3.8 6.7 2.2]\n",
      " [6.6 2.9 4.6 1.3]\n",
      " [6.2 2.9 4.3 1.3]\n",
      " [7.2 3.  5.8 1.6]\n",
      " [5.8 2.8 5.1 2.4]\n",
      " [6.3 2.5 5.  1.9]\n",
      " [4.6 3.2 1.4 0.2]\n",
      " [6.7 3.3 5.7 2.1]\n",
      " [6.9 3.2 5.7 2.3]\n",
      " [7.7 2.6 6.9 2.3]\n",
      " [6.9 3.1 5.1 2.3]\n",
      " [5.  3.4 1.6 0.4]\n",
      " [5.  3.5 1.6 0.6]\n",
      " [5.2 2.7 3.9 1.4]\n",
      " [4.5 2.3 1.3 0.3]\n",
      " [6.3 3.3 4.7 1.6]]\n",
      "Training target :  [0 1 1 2 2 1 2 1 1 1 0 0 1 0 2 0 0 2 1 2 0 2 0 1 1 0 2 2 2 2 2 0 1 2 1 0 2\n",
      " 1 1 0 0 0 1 2 2 1 0 0 0 2 2 1 1 2 2 2 2 1 0 0 1 0 0 2 1 0 0 0 1 0 1 0 1 2\n",
      " 0 1 1 2 0 2 0 1 1 2 2 0 1 2 2 1 1 2 0 2 0 0 1 0 2 2 2 1 0 2 0]\n",
      "Testing target :  [1 2 0 1 0 1 1 1 0 1 1 2 1 0 0 2 1 0 0 0 2 2 2 0 1 0 1 1 1 2 1 1 2 2 2 0 2\n",
      " 2 2 2 0 0 1 0 1]\n"
     ]
    }
   ],
   "source": [
    "# Splling the data for Training\n",
    "from sklearn.model_selection import train_test_split\n",
    "\n",
    "#split data set into train and test sets\n",
    "data_train, data_test, target_train, target_test = train_test_split(iris.data, iris.target, test_size = 0.30, random_state = 10)\n",
    "print(\"Training data : \", data_train)\n",
    "print(\"Testing data : \", data_test)\n",
    "print(\"Training target : \", target_train)\n",
    "print(\"Testing target : \", target_test)"
   ]
  },
  {
   "cell_type": "code",
   "execution_count": 34,
   "id": "aabbdc17",
   "metadata": {},
   "outputs": [
    {
     "data": {
      "text/plain": [
       "GaussianNB(priors=None, var_smoothing=1e-09)"
      ]
     },
     "execution_count": 34,
     "metadata": {},
     "output_type": "execute_result"
    }
   ],
   "source": [
    "import numpy as np\n",
    "gnb = GaussianNB()\n",
    "#Training the model using the training sets\n",
    "gnb.fit(data_train, target_train)"
   ]
  },
  {
   "cell_type": "code",
   "execution_count": 35,
   "id": "5462f6a7",
   "metadata": {},
   "outputs": [
    {
     "name": "stdout",
     "output_type": "stream",
     "text": [
      "[1 2 0 1 0 1 1 1 0 1 1 2 1 0 0 2 1 0 0 0 2 2 2 0 1 0 1 1 1 2 1 1 2 2 2 0 2\n",
      " 2 2 2 0 0 1 0 1]\n"
     ]
    }
   ],
   "source": [
    "#Predict the response for test dataset\n",
    "target_pred = gnb.predict(data_test)\n",
    "print(target_pred)"
   ]
  },
  {
   "cell_type": "code",
   "execution_count": 36,
   "id": "97a845cc",
   "metadata": {},
   "outputs": [
    {
     "name": "stdout",
     "output_type": "stream",
     "text": [
      "Accuracy :  1.0\n"
     ]
    }
   ],
   "source": [
    "# Calculating accuracy\n",
    "from sklearn import metrics\n",
    "print(\"Accuracy : \",metrics.accuracy_score(target_test, target_pred))"
   ]
  },
  {
   "cell_type": "code",
   "execution_count": 37,
   "id": "5de78459",
   "metadata": {},
   "outputs": [
    {
     "data": {
      "text/plain": [
       "array([[14,  0,  0],\n",
       "       [ 0, 17,  0],\n",
       "       [ 0,  0, 14]])"
      ]
     },
     "execution_count": 37,
     "metadata": {},
     "output_type": "execute_result"
    }
   ],
   "source": [
    "#Import confusion_matrix for confusion_matrix\n",
    "from sklearn.metrics import confusion_matrix\n",
    "confusion_matrix(target_test, target_pred)"
   ]
  },
  {
   "cell_type": "code",
   "execution_count": 38,
   "id": "40287fc5",
   "metadata": {},
   "outputs": [
    {
     "name": "stdout",
     "output_type": "stream",
     "text": [
      "precision : [1. 1. 1.]\n",
      "recall : [1. 1. 1.]\n"
     ]
    }
   ],
   "source": [
    "# Finding the precision\n",
    "from sklearn.metrics import precision_score\n",
    "from sklearn.metrics import recall_score\n",
    "precision = precision_score(target_test, target_pred, average=None)\n",
    "recall = recall_score(target_test, target_pred, average=None)\n",
    "print('precision : {}'.format(precision))\n",
    "print('recall : {}'.format(recall))"
   ]
  },
  {
   "cell_type": "markdown",
   "id": "73f6afc1",
   "metadata": {},
   "source": [
    "### NB Classifier Exercise"
   ]
  },
  {
   "cell_type": "code",
   "execution_count": 2,
   "id": "b1c05d6e",
   "metadata": {},
   "outputs": [
    {
     "name": "stdout",
     "output_type": "stream",
     "text": [
      "Labels :  ['setosa' 'versicolor' 'virginica']\n",
      "Features :  ['sepal length (cm)', 'sepal width (cm)', 'petal length (cm)', 'petal width (cm)']\n",
      "Iris Data shape :  (150, 4)\n"
     ]
    }
   ],
   "source": [
    "from sklearn import datasets\n",
    "from sklearn.naive_bayes import GaussianNB\n",
    "\n",
    "iris = datasets.load_iris()\n",
    "print(\"Labels : \", iris.target_names)\n",
    "print(\"Features : \", iris.feature_names)\n",
    "print(\"Iris Data shape : \", iris.data.shape)"
   ]
  },
  {
   "cell_type": "code",
   "execution_count": 3,
   "id": "fcaf0597",
   "metadata": {},
   "outputs": [],
   "source": [
    "from sklearn import preprocessing\n",
    "from sklearn.naive_bayes import GaussianNB, MultinomialNB\n",
    "import pandas as pd\n",
    "import numpy as np "
   ]
  },
  {
   "cell_type": "code",
   "execution_count": 4,
   "id": "26f5939b",
   "metadata": {},
   "outputs": [
    {
     "name": "stdout",
     "output_type": "stream",
     "text": [
      "Wind :  0     F\n",
      "1     T\n",
      "2     F\n",
      "3     F\n",
      "4     F\n",
      "5     T\n",
      "6     T\n",
      "7     F\n",
      "8     F\n",
      "9     F\n",
      "10    T\n",
      "11    T\n",
      "12    F\n",
      "13    T\n",
      "Name: Wind, dtype: object\n",
      "Play :  0     N\n",
      "1     N\n",
      "2     Y\n",
      "3     Y\n",
      "4     Y\n",
      "5     N\n",
      "6     Y\n",
      "7     N\n",
      "8     Y\n",
      "9     Y\n",
      "10    Y\n",
      "11    Y\n",
      "12    Y\n",
      "13    N\n",
      "Name: Play, dtype: object\n",
      "Temp :  0     H\n",
      "1     H\n",
      "2     H\n",
      "3     M\n",
      "4     C\n",
      "5     C\n",
      "6     C\n",
      "7     M\n",
      "8     C\n",
      "9     M\n",
      "10    M\n",
      "11    M\n",
      "12    H\n",
      "13    M\n",
      "Name: Temp, dtype: object\n"
     ]
    }
   ],
   "source": [
    "# Loading Data\n",
    "        \n",
    "datasets = pd.read_csv('Dataset1.csv')\n",
    "Outlook = datasets['Outlook']\n",
    "Humidity = datasets['Humidity']\n",
    "Wind = datasets['Wind']\n",
    "Play = datasets['Play']\n",
    "Temp = datasets['Temp']\n",
    "print(\"Wind : \", Wind)\n",
    "print(\"Play : \", Play)\n",
    "print(\"Temp : \", Temp)"
   ]
  },
  {
   "cell_type": "code",
   "execution_count": 5,
   "id": "3401d2a5",
   "metadata": {},
   "outputs": [
    {
     "name": "stdout",
     "output_type": "stream",
     "text": [
      "Outlook: [1 1 0 2 2 2 0 1 1 2 1 0 0 2]\n",
      "Humidity: [2 0 2 2 2 1 2 2 1 0 0 1 2 2]\n",
      "Wind: [0 1 0 0 0 1 1 0 0 0 1 1 0 1]\n",
      "Play: [0 0 1 1 1 0 1 0 1 1 1 1 1 0]\n",
      "Temp: [1 1 1 2 0 0 0 2 0 2 2 2 1 2]\n"
     ]
    }
   ],
   "source": [
    "# Encoding \n",
    "le = preprocessing.LabelEncoder()\n",
    "\n",
    "Outlook_encoded=le.fit_transform(Outlook)\n",
    "print(\"Outlook:\" ,Outlook_encoded)\n",
    "\n",
    "Humidity_encoded=le.fit_transform(Humidity)\n",
    "print(\"Humidity:\" ,Humidity_encoded)\n",
    "\n",
    "Wind_encoded=le.fit_transform(Wind)\n",
    "print(\"Wind:\" ,Wind_encoded)\n",
    "\n",
    "Play_encoded=le.fit_transform(Play)\n",
    "print(\"Play:\" ,Play_encoded)\n",
    "\n",
    "Temp_encoded=le.fit_transform(Temp)\n",
    "print(\"Temp:\" ,Temp_encoded)"
   ]
  },
  {
   "cell_type": "code",
   "execution_count": 6,
   "id": "906bf8af",
   "metadata": {},
   "outputs": [
    {
     "name": "stdout",
     "output_type": "stream",
     "text": [
      "Features :  ((2, 1, 1, 0), (0, 1, 1, 1), (2, 0, 1, 0), (2, 2, 2, 0), (2, 2, 0, 0), (1, 2, 0, 1), (2, 0, 0, 1), (2, 1, 2, 0), (1, 1, 0, 0), (0, 2, 2, 0), (0, 1, 2, 1), (1, 0, 2, 1), (2, 0, 1, 0), (2, 2, 2, 1))\n"
     ]
    }
   ],
   "source": [
    "features=tuple(zip(Humidity_encoded,Outlook_encoded,Temp_encoded,Wind_encoded))\n",
    "print(\"Features : \",features)"
   ]
  },
  {
   "cell_type": "code",
   "execution_count": 7,
   "id": "08a11590",
   "metadata": {},
   "outputs": [
    {
     "name": "stdout",
     "output_type": "stream",
     "text": [
      "MultinomialNB(alpha=1.0, class_prior=None, fit_prior=True)\n"
     ]
    }
   ],
   "source": [
    "# Train the model using the training sets\n",
    "model = MultinomialNB()\n",
    "model.fit(features,Play)\n",
    "print(model)"
   ]
  },
  {
   "cell_type": "code",
   "execution_count": 10,
   "id": "1706e8f4",
   "metadata": {},
   "outputs": [
    {
     "name": "stdout",
     "output_type": "stream",
     "text": [
      "Prediction :  ['Y']\n"
     ]
    }
   ],
   "source": [
    "predicted = model.predict([[1,1,0,0]])#[[HUMIDITY=2,OUTLOOK=1,TEMP=2,WIND=0]] \n",
    "print(\"Prediction : \", predicted) "
   ]
  },
  {
   "cell_type": "code",
   "execution_count": 11,
   "id": "7ab1531c",
   "metadata": {},
   "outputs": [
    {
     "name": "stdout",
     "output_type": "stream",
     "text": [
      "Training data :  [(1, 2, 0, 1), (2, 2, 0, 0), (2, 0, 1, 0), (2, 0, 1, 0), (2, 2, 2, 1), (0, 1, 2, 1), (2, 1, 2, 0), (0, 1, 1, 1), (1, 0, 2, 1), (2, 1, 1, 0), (0, 2, 2, 0)]\n",
      "Testing data :  [(2, 0, 0, 1), (2, 2, 2, 0), (1, 1, 0, 0)]\n",
      "Training target :  5     N\n",
      "4     Y\n",
      "12    Y\n",
      "2     Y\n",
      "13    N\n",
      "10    Y\n",
      "7     N\n",
      "1     N\n",
      "11    Y\n",
      "0     N\n",
      "9     Y\n",
      "Name: Play, dtype: object\n",
      "Testing target :  6    Y\n",
      "3    Y\n",
      "8    Y\n",
      "Name: Play, dtype: object\n"
     ]
    }
   ],
   "source": [
    "# Splling the data for Training\n",
    "from sklearn.model_selection import train_test_split\n",
    "data_train, data_test, target_train, target_test = train_test_split(features, Play, test_size = 0.20, random_state =11)\n",
    "print(\"Training data : \", data_train)\n",
    "print(\"Testing data : \", data_test)\n",
    "print(\"Training target : \", target_train)\n",
    "print(\"Testing target : \", target_test)"
   ]
  },
  {
   "cell_type": "code",
   "execution_count": 12,
   "id": "0bf82a6f",
   "metadata": {},
   "outputs": [
    {
     "name": "stdout",
     "output_type": "stream",
     "text": [
      "['Y' 'N' 'Y']\n"
     ]
    }
   ],
   "source": [
    "import numpy as np\n",
    "gnb = GaussianNB()\n",
    "#Training the model using the training sets\n",
    "gnb.fit(data_train, target_train)\n",
    "#Predict the response for test dataset\n",
    "target_pred = gnb.predict(data_test)\n",
    "print(target_pred)"
   ]
  },
  {
   "cell_type": "code",
   "execution_count": 13,
   "id": "bf5d9a98",
   "metadata": {},
   "outputs": [
    {
     "name": "stdout",
     "output_type": "stream",
     "text": [
      "Accuracy: 0.6666666666666666\n"
     ]
    }
   ],
   "source": [
    "from sklearn import metrics\n",
    "# Calculating accuracy\n",
    "print(\"Accuracy:\",metrics.accuracy_score(target_test, target_pred))"
   ]
  },
  {
   "cell_type": "code",
   "execution_count": 14,
   "id": "378db4e1",
   "metadata": {},
   "outputs": [
    {
     "data": {
      "text/plain": [
       "array([[0, 0],\n",
       "       [1, 2]])"
      ]
     },
     "execution_count": 14,
     "metadata": {},
     "output_type": "execute_result"
    }
   ],
   "source": [
    "#Import confusion_matrix for confusion_matrix\n",
    "from sklearn.metrics import confusion_matrix\n",
    "confusion_matrix(target_test, target_pred)"
   ]
  },
  {
   "cell_type": "code",
   "execution_count": 16,
   "id": "b4defadb",
   "metadata": {},
   "outputs": [
    {
     "name": "stdout",
     "output_type": "stream",
     "text": [
      "precision: [0. 1.]\n",
      "recall: [0.         0.66666667]\n"
     ]
    }
   ],
   "source": [
    "# Finding the precision\n",
    "from sklearn.metrics import precision_score\n",
    "from sklearn.metrics import recall_score\n",
    "precision = precision_score(target_test, target_pred, average=None)\n",
    "recall = recall_score(target_test, target_pred, average=None)\n",
    "print('precision: {}'.format(precision))\n",
    "print('recall: {}'.format(recall))"
   ]
  },
  {
   "cell_type": "code",
   "execution_count": null,
   "id": "1e12eeb9",
   "metadata": {},
   "outputs": [],
   "source": []
  }
 ],
 "metadata": {
  "kernelspec": {
   "display_name": "Python 3 (ipykernel)",
   "language": "python",
   "name": "python3"
  },
  "language_info": {
   "codemirror_mode": {
    "name": "ipython",
    "version": 3
   },
   "file_extension": ".py",
   "mimetype": "text/x-python",
   "name": "python",
   "nbconvert_exporter": "python",
   "pygments_lexer": "ipython3",
   "version": "3.8.10"
  }
 },
 "nbformat": 4,
 "nbformat_minor": 5
}
